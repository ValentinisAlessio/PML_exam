{
 "cells": [
  {
   "cell_type": "code",
   "execution_count": 1,
   "metadata": {},
   "outputs": [],
   "source": [
    "import numpy as np\n",
    "import torch\n",
    "import pandas as pd\n",
    "import matplotlib.pyplot as plt\n",
    "import seaborn as sns\n",
    "from utils.Plots import PlotPitch, PlotGIF\n",
    "from models.CopulaHMM import CopulaHMM"
   ]
  },
  {
   "cell_type": "code",
   "execution_count": 2,
   "metadata": {},
   "outputs": [],
   "source": [
    "data=pd.read_csv('data/hulls_df_matchday2_reduced.csv')\n",
    "events=pd.read_csv(f\"data/matchday2_events.csv\")\n",
    "home_xy=pd.read_csv(f\"data/home_xy.csv\")\n",
    "away_xy=pd.read_csv(f\"data/away_xy.csv\")\n",
    "goals_info=events[events[\"Subtype\"].isin([\"ON TARGET-GOAL\",\"HEAD-ON TARGET-GOAL\",\"WOODWORK-GOAL\"])]\n",
    "home_goals=goals_info[goals_info[\"Team\"]==\"Home\"]\n",
    "away_goals=goals_info[goals_info[\"Team\"]==\"Away\"]\n",
    "shots_info=events[events[\"Type\"]==\"SHOT\"]\n",
    "home_shot=shots_info[shots_info[\"Team\"]==\"Home\"]\n",
    "away_shot=shots_info[shots_info[\"Team\"]==\"Away\"]\n",
    "sequence_XY = torch.tensor(data[[\"HomeHull\",\"AwayHull\"]].values/100)\n",
    "completedata = pd.read_csv('data/hulls_df_matchday2.csv')"
   ]
  },
  {
   "cell_type": "markdown",
   "metadata": {},
   "source": [
    "## Preliminary analysis"
   ]
  },
  {
   "cell_type": "code",
   "execution_count": null,
   "metadata": {},
   "outputs": [],
   "source": [
    "fig, axs = plt.subplots(2, 1, figsize=(8, 5))\n",
    "sns.histplot(data[\"HomeHull\"], kde=True, color='blue',alpha=0.4,ax=axs[0],bins=50)\n",
    "axs[0].axvline(data[\"HomeHull\"].mean(), color='navy', linestyle='--', linewidth=2.5)\n",
    "axs[0].set_xlabel(\"Convex Hull Area\", fontsize=8, fontweight='normal');\n",
    "axs[0].set_ylabel(\"Count\", fontsize=8, fontweight='normal');\n",
    "axs[0].set_title(\"Distribution of Home team's Convex Hull Area\", fontsize=10, fontweight='bold');\n",
    "sns.histplot(data[\"AwayHull\"], kde=True, color='red',alpha=0.4,ax=axs[1],bins=50)\n",
    "axs[1].axvline(data[\"AwayHull\"].mean(), color='darkred', linestyle='--', linewidth=2.5)\n",
    "axs[1].set_xlabel(\"Convex Hull Area\", fontsize=8, fontweight='normal');\n",
    "axs[1].set_ylabel(\"Count\", fontsize=8, fontweight='normal');\n",
    "axs[1].set_title(\"Distribution of Away team's Convex Hull Area\", fontsize=10, fontweight='bold');\n",
    "plt.subplots_adjust(hspace=0.5)\n",
    "#plt.savefig(\"plots/ConvexHull_Distribution_matchday2.png\", dpi=350, bbox_inches='tight')"
   ]
  },
  {
   "cell_type": "code",
   "execution_count": null,
   "metadata": {},
   "outputs": [],
   "source": [
    "custom_palette = [\"black\", \"#ff7f0e\"]\n",
    "plt.figure(figsize=(8, 6))\n",
    "sns.scatterplot(data=data, x=\"HomeHull\", y=\"AwayHull\", hue=\"Period\", palette=custom_palette, s=5)\n",
    "plt.xlabel(\"Home team's Convex Hull Area\", fontsize=10, fontweight='normal');\n",
    "plt.ylabel(\"Away team's Convex Hull Area\", fontsize=10, fontweight='normal');\n",
    "plt.title(\"Correlation between Convex Hull Areas by Period\", fontsize=12, fontweight='bold');\n",
    "#plt.savefig(\"plots/ConvexHulls_correlation_matchday2.png\", dpi=350, bbox_inches='tight')"
   ]
  },
  {
   "cell_type": "markdown",
   "metadata": {},
   "source": [
    "## Viterbi&Co."
   ]
  },
  {
   "cell_type": "markdown",
   "metadata": {},
   "source": [
    "The model with 4 states is the most interesting from an interpretability point of view"
   ]
  },
  {
   "cell_type": "code",
   "execution_count": 3,
   "metadata": {},
   "outputs": [],
   "source": [
    "posterior=torch.load(f\"parameters/CopulaHMM_matchday2_4states.pt\")"
   ]
  },
  {
   "cell_type": "code",
   "execution_count": 4,
   "metadata": {},
   "outputs": [],
   "source": [
    "model=CopulaHMM.from_posterior(posterior)\n",
    "MLS=model.viterbi(sequence_XY)\n",
    "data[\"State\"]=MLS.numpy()"
   ]
  },
  {
   "cell_type": "code",
   "execution_count": 5,
   "metadata": {},
   "outputs": [
    {
     "name": "stdout",
     "output_type": "stream",
     "text": [
      "--------------------------------------------------------------------\n",
      "STATE 0:\n",
      ">> Mean of the Convex Hull for home team : 1185.22 m^2\n",
      ">> Std of the Convex Hull for home team  : 340.21 m^2\n",
      ">> Mean of the Convex Hull for away team : 1145.19 m^2\n",
      ">> Std of the Convex Hull for away team  : 313.33 m^2\n",
      "--------------------------------------------------------------------\n",
      "STATE 1:\n",
      ">> Mean of the Convex Hull for home team : 477.59 m^2\n",
      ">> Std of the Convex Hull for home team  : 158.85 m^2\n",
      ">> Mean of the Convex Hull for away team : 886.10 m^2\n",
      ">> Std of the Convex Hull for away team  : 281.71 m^2\n",
      "--------------------------------------------------------------------\n",
      "STATE 2:\n",
      ">> Mean of the Convex Hull for home team : 1013.96 m^2\n",
      ">> Std of the Convex Hull for home team  : 274.37 m^2\n",
      ">> Mean of the Convex Hull for away team : 649.33 m^2\n",
      ">> Std of the Convex Hull for away team  : 196.21 m^2\n",
      "--------------------------------------------------------------------\n",
      "STATE 3:\n",
      ">> Mean of the Convex Hull for home team : 751.47 m^2\n",
      ">> Std of the Convex Hull for home team  : 221.81 m^2\n",
      ">> Mean of the Convex Hull for away team : 1268.14 m^2\n",
      ">> Std of the Convex Hull for away team  : 353.85 m^2\n",
      "--------------------------------------------------------------------\n"
     ]
    }
   ],
   "source": [
    "model.print_estimates()"
   ]
  },
  {
   "cell_type": "markdown",
   "metadata": {},
   "source": [
    "Let's now inspect the % of each state during the match:"
   ]
  },
  {
   "cell_type": "code",
   "execution_count": null,
   "metadata": {},
   "outputs": [],
   "source": [
    "state_colors= {0:\"#FD8033\",\n",
    "               1:\"#0DC2B7\",\n",
    "               2:\"#DAC11E\",\n",
    "               3:\"#D964DC\"}\n",
    "plt.figure(figsize=(8, 6))\n",
    "sns.countplot(data=data, x=\"State\",stat=\"proportion\",hue=\"State\",palette=state_colors,edgecolor='black')\n",
    "plt.xlabel(\"\");\n",
    "plt.xticks([0,1,2,3],[\"State 0\",\"State 1\",\"State 2\",\"State 3\"], fontsize=12)\n",
    "plt.ylabel(\"Proportion\", fontsize=12, fontweight='normal');\n",
    "plt.yticks(fontsize=10)\n",
    "plt.title(\"Proportion of each state during the match\", fontsize=12, fontweight='bold');\n",
    "plt.legend([],[], frameon=False);\n",
    "#plt.savefig(\"plots/State_Proportion_matchday2.png\", dpi=350, bbox_inches='tight')"
   ]
  },
  {
   "cell_type": "markdown",
   "metadata": {},
   "source": [
    "## Different EPS assiciated to different states"
   ]
  },
  {
   "cell_type": "markdown",
   "metadata": {},
   "source": [
    "Example of Home EPS > Away EPS"
   ]
  },
  {
   "cell_type": "code",
   "execution_count": null,
   "metadata": {},
   "outputs": [],
   "source": [
    "PlotPitch(frame=51,\n",
    "          lag=51,\n",
    "          home_xy=home_xy,\n",
    "          away_xy=away_xy,\n",
    "          plotHulls=True,\n",
    "          plotAllPlayers=True,\n",
    "          title=\"\")"
   ]
  },
  {
   "cell_type": "code",
   "execution_count": null,
   "metadata": {},
   "outputs": [],
   "source": [
    "PlotPitch(frame=47701,\n",
    "          lag=51,\n",
    "          home_xy=home_xy,\n",
    "          away_xy=away_xy,\n",
    "          plotHulls=True,\n",
    "          plotAllPlayers=True,\n",
    "          title=\"\")"
   ]
  },
  {
   "cell_type": "markdown",
   "metadata": {},
   "source": [
    "Example of Home EPS < Away EPS"
   ]
  },
  {
   "cell_type": "code",
   "execution_count": null,
   "metadata": {},
   "outputs": [],
   "source": [
    "PlotPitch(frame=30330,\n",
    "          lag=51,\n",
    "          home_xy=home_xy,\n",
    "          away_xy=away_xy,\n",
    "          plotHulls=True,\n",
    "          plotAllPlayers=True,\n",
    "          title=\"\")"
   ]
  },
  {
   "cell_type": "markdown",
   "metadata": {},
   "source": [
    "Example of Home EPS and Away EPS both small"
   ]
  },
  {
   "cell_type": "code",
   "execution_count": null,
   "metadata": {},
   "outputs": [],
   "source": [
    "PlotPitch(frame=91010,\n",
    "          lag=51,\n",
    "          home_xy=home_xy,\n",
    "          away_xy=away_xy,\n",
    "          plotHulls=True,\n",
    "          plotAllPlayers=True,\n",
    "          title=\"\")"
   ]
  },
  {
   "cell_type": "markdown",
   "metadata": {},
   "source": [
    "Example of Home EPS and Away EPS both extended"
   ]
  },
  {
   "cell_type": "code",
   "execution_count": null,
   "metadata": {},
   "outputs": [],
   "source": [
    "PlotPitch(frame=11720,\n",
    "          lag=51,\n",
    "          home_xy=home_xy,\n",
    "          away_xy=away_xy,\n",
    "          plotHulls=True,\n",
    "          plotAllPlayers=True,\n",
    "          title=\"\")"
   ]
  },
  {
   "cell_type": "markdown",
   "metadata": {},
   "source": [
    "# GIF"
   ]
  },
  {
   "cell_type": "markdown",
   "metadata": {},
   "source": [
    "Kick off (start of the match)"
   ]
  },
  {
   "cell_type": "code",
   "execution_count": null,
   "metadata": {},
   "outputs": [],
   "source": [
    "PlotGIF(home_xy, away_xy, initial_frame=51,final_frame=350,lag=51,step=2,\n",
    "        gifname=\"gifs/plot_goal1_HomeTeam.gif\",title=\"Kick off (start of the match)\")"
   ]
  },
  {
   "cell_type": "markdown",
   "metadata": {},
   "source": [
    "Goals:"
   ]
  },
  {
   "cell_type": "code",
   "execution_count": null,
   "metadata": {},
   "outputs": [],
   "source": [
    "goals_info"
   ]
  },
  {
   "cell_type": "markdown",
   "metadata": {},
   "source": [
    "NB: since the table above shows the starting frame of the goals, in the following GIFs we'll show the action from 3 seconds before (3 seconds= 75 frames before)"
   ]
  },
  {
   "cell_type": "code",
   "execution_count": null,
   "metadata": {},
   "outputs": [],
   "source": [
    "PlotGIF(home_xy, away_xy, initial_frame=12202-75,final_frame=12212,lag=51,step=2,\n",
    "        gifname=\"gifs/plot_goal1_HomeTeam.gif\",title=\"Action leading to 1-0\")"
   ]
  },
  {
   "cell_type": "code",
   "execution_count": null,
   "metadata": {},
   "outputs": [],
   "source": [
    "PlotGIF(home_xy, away_xy, initial_frame=53049-75,final_frame=53075,lag=51,step=2,\n",
    "        gifname=\"gifs/plot_goal1_AwayTeam.gif\",title=\"Action leading to 1-1\")"
   ]
  },
  {
   "cell_type": "code",
   "execution_count": null,
   "metadata": {},
   "outputs": [],
   "source": [
    "PlotGIF(home_xy, away_xy, initial_frame=73983-75,final_frame=73995,lag=51,step=2,\n",
    "        gifname=\"gifs/plot_goal2_HomeTeam.gif\",title=\"Action leading to 2-1\")"
   ]
  },
  {
   "cell_type": "code",
   "execution_count": null,
   "metadata": {},
   "outputs": [],
   "source": [
    "PlotGIF(home_xy, away_xy, initial_frame=115009,final_frame=115024,lag=51, step=1,\n",
    "        gifname=\"gifs/plot_goal2_AwayTeam.gif\",title=\"Action leading to 2-2\") #la palla è un po' sfasata sul rigore"
   ]
  },
  {
   "cell_type": "code",
   "execution_count": null,
   "metadata": {},
   "outputs": [],
   "source": [
    "PlotGIF(home_xy, away_xy, initial_frame=121027-75,final_frame=121055,lag=51,step=2,\n",
    "        gifname=\"gifs/plot_goal3_HomeTeam.gif\",title=\"Action leading to 3-2\")"
   ]
  }
 ],
 "metadata": {
  "kernelspec": {
   "display_name": "Python 3",
   "language": "python",
   "name": "python3"
  },
  "language_info": {
   "codemirror_mode": {
    "name": "ipython",
    "version": 3
   },
   "file_extension": ".py",
   "mimetype": "text/x-python",
   "name": "python",
   "nbconvert_exporter": "python",
   "pygments_lexer": "ipython3",
   "version": "3.12.1"
  }
 },
 "nbformat": 4,
 "nbformat_minor": 2
}
