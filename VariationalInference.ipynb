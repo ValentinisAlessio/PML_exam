{
 "cells": [
  {
   "cell_type": "markdown",
   "metadata": {},
   "source": [
    "# Variational Inference"
   ]
  },
  {
   "cell_type": "markdown",
   "metadata": {},
   "source": [
    "### Estimation of Transition matrix and Emission parameters for each state"
   ]
  },
  {
   "cell_type": "markdown",
   "metadata": {},
   "source": [
    "Libraries:"
   ]
  },
  {
   "cell_type": "code",
   "execution_count": 1,
   "metadata": {},
   "outputs": [],
   "source": [
    "import numpy as np\n",
    "import torch\n",
    "import pyro\n",
    "from pyro import poutine\n",
    "import pyro.distributions as dist\n",
    "from pyro.infer import SVI, TraceEnum_ELBO\n",
    "from pyro.infer.autoguide import AutoDelta\n",
    "from pyro.optim import Adam\n",
    "import pandas as pd\n",
    "import tqdm\n",
    "from models.UnivariateHMM import UnivariateHMM\n",
    "from models.CopulaHMM import CopulaHMM\n",
    "from utils.CopulaHelpers import *"
   ]
  },
  {
   "cell_type": "markdown",
   "metadata": {},
   "source": [
    "Global variables:"
   ]
  },
  {
   "cell_type": "code",
   "execution_count": 2,
   "metadata": {},
   "outputs": [],
   "source": [
    "DATA_DIR=\"data/\"\n",
    "HIDDEN_STATES = 3\n",
    "TRAINING_STEPS= 500"
   ]
  },
  {
   "cell_type": "markdown",
   "metadata": {},
   "source": [
    "Import data:"
   ]
  },
  {
   "cell_type": "code",
   "execution_count": 3,
   "metadata": {},
   "outputs": [
    {
     "data": {
      "text/html": [
       "<div>\n",
       "<style scoped>\n",
       "    .dataframe tbody tr th:only-of-type {\n",
       "        vertical-align: middle;\n",
       "    }\n",
       "\n",
       "    .dataframe tbody tr th {\n",
       "        vertical-align: top;\n",
       "    }\n",
       "\n",
       "    .dataframe thead th {\n",
       "        text-align: right;\n",
       "    }\n",
       "</style>\n",
       "<table border=\"1\" class=\"dataframe\">\n",
       "  <thead>\n",
       "    <tr style=\"text-align: right;\">\n",
       "      <th></th>\n",
       "      <th>Time [s]</th>\n",
       "      <th>Period</th>\n",
       "      <th>HomeHull</th>\n",
       "      <th>AwayHull</th>\n",
       "    </tr>\n",
       "  </thead>\n",
       "  <tbody>\n",
       "    <tr>\n",
       "      <th>0</th>\n",
       "      <td>2.0</td>\n",
       "      <td>1.0</td>\n",
       "      <td>5.982854</td>\n",
       "      <td>8.106641</td>\n",
       "    </tr>\n",
       "    <tr>\n",
       "      <th>1</th>\n",
       "      <td>4.0</td>\n",
       "      <td>1.0</td>\n",
       "      <td>6.470239</td>\n",
       "      <td>9.445797</td>\n",
       "    </tr>\n",
       "    <tr>\n",
       "      <th>2</th>\n",
       "      <td>6.0</td>\n",
       "      <td>1.0</td>\n",
       "      <td>6.687160</td>\n",
       "      <td>10.615702</td>\n",
       "    </tr>\n",
       "    <tr>\n",
       "      <th>3</th>\n",
       "      <td>8.0</td>\n",
       "      <td>1.0</td>\n",
       "      <td>6.578269</td>\n",
       "      <td>12.365166</td>\n",
       "    </tr>\n",
       "    <tr>\n",
       "      <th>4</th>\n",
       "      <td>10.0</td>\n",
       "      <td>1.0</td>\n",
       "      <td>6.843430</td>\n",
       "      <td>14.701596</td>\n",
       "    </tr>\n",
       "  </tbody>\n",
       "</table>\n",
       "</div>"
      ],
      "text/plain": [
       "   Time [s]  Period  HomeHull   AwayHull\n",
       "0       2.0     1.0  5.982854   8.106641\n",
       "1       4.0     1.0  6.470239   9.445797\n",
       "2       6.0     1.0  6.687160  10.615702\n",
       "3       8.0     1.0  6.578269  12.365166\n",
       "4      10.0     1.0  6.843430  14.701596"
      ]
     },
     "execution_count": 3,
     "metadata": {},
     "output_type": "execute_result"
    }
   ],
   "source": [
    "data = pd.read_csv(f\"{DATA_DIR}hulls_df_matchday2_reduced.csv\")\n",
    "data = data.dropna()\n",
    "# Convert the areas from m^2 to dam^2 for computational reasons\n",
    "data[\"HomeHull\"]=data[\"HomeHull\"]/100\n",
    "data[\"AwayHull\"]=data[\"AwayHull\"]/100\n",
    "data.head()"
   ]
  },
  {
   "cell_type": "markdown",
   "metadata": {},
   "source": [
    "## Univariate (separate) models"
   ]
  },
  {
   "cell_type": "code",
   "execution_count": 4,
   "metadata": {},
   "outputs": [],
   "source": [
    "sequence_X = torch.tensor(data[\"HomeHull\"].values)\n",
    "sequence_Y = torch.tensor(data[\"AwayHull\"].values)"
   ]
  },
  {
   "cell_type": "markdown",
   "metadata": {},
   "source": [
    "#### Home Team"
   ]
  },
  {
   "cell_type": "code",
   "execution_count": 5,
   "metadata": {},
   "outputs": [],
   "source": [
    "pyro.clear_param_store()"
   ]
  },
  {
   "cell_type": "code",
   "execution_count": 6,
   "metadata": {},
   "outputs": [
    {
     "name": "stderr",
     "output_type": "stream",
     "text": [
      "100%|██████████| 500/500 [09:23<00:00,  1.13s/it, LOSS=5.12e+3]\n"
     ]
    }
   ],
   "source": [
    "# Guide\n",
    "guide = AutoDelta(poutine.block(UnivariateHMM, expose=[\"probs_x\", \"probs_alpha\", \"probs_beta\"]))\n",
    "# Optimizer\n",
    "optimizer = Adam({\"lr\": 0.01})\n",
    "# Inference algorithm\n",
    "elbo = TraceEnum_ELBO(max_plate_nesting=1)\n",
    "svi = SVI(UnivariateHMM, guide, optimizer, loss=elbo)\n",
    "# Training\n",
    "tqdm_bar = tqdm.tqdm(range(TRAINING_STEPS))\n",
    "for step in tqdm_bar:\n",
    "    loss = svi.step(sequence_X, HIDDEN_STATES)\n",
    "    if step % 100 == 0:\n",
    "         tqdm_bar.set_postfix({'LOSS': loss})"
   ]
  },
  {
   "cell_type": "code",
   "execution_count": 7,
   "metadata": {},
   "outputs": [
    {
     "data": {
      "text/plain": [
       "{'probs_x': tensor([[0.9656, 0.0264, 0.0080],\n",
       "         [0.8818, 0.0997, 0.0184],\n",
       "         [0.0807, 0.0360, 0.8834]], grad_fn=<ExpandBackward0>),\n",
       " 'probs_alpha': tensor([5.6445, 2.9927, 1.3998], grad_fn=<ExpandBackward0>),\n",
       " 'probs_beta': tensor([0.6066, 0.3261, 0.2830], grad_fn=<ExpandBackward0>)}"
      ]
     },
     "execution_count": 7,
     "metadata": {},
     "output_type": "execute_result"
    }
   ],
   "source": [
    "posterior_HomeTeam = guide(sequence_X,HIDDEN_STATES)\n",
    "posterior_HomeTeam"
   ]
  },
  {
   "cell_type": "code",
   "execution_count": 8,
   "metadata": {},
   "outputs": [],
   "source": [
    "torch.save(posterior_HomeTeam,f\"parameters/univariateHMM_matchday2_HomeTeam_{HIDDEN_STATES}states.pt\")"
   ]
  },
  {
   "cell_type": "markdown",
   "metadata": {},
   "source": [
    "#### Away Team"
   ]
  },
  {
   "cell_type": "code",
   "execution_count": 9,
   "metadata": {},
   "outputs": [],
   "source": [
    "pyro.clear_param_store()"
   ]
  },
  {
   "cell_type": "code",
   "execution_count": 10,
   "metadata": {},
   "outputs": [
    {
     "name": "stderr",
     "output_type": "stream",
     "text": [
      "100%|██████████| 500/500 [09:36<00:00,  1.15s/it, LOSS=5.07e+3]\n"
     ]
    }
   ],
   "source": [
    "# Guide\n",
    "guide = AutoDelta(poutine.block(UnivariateHMM, expose=[\"probs_x\", \"probs_alpha\", \"probs_beta\"]))\n",
    "# Optimizer\n",
    "optimizer = Adam({\"lr\": 0.01})\n",
    "# Inference algorithm\n",
    "elbo = TraceEnum_ELBO(max_plate_nesting=1)\n",
    "svi = SVI(UnivariateHMM, guide, optimizer, loss=elbo)\n",
    "# Training\n",
    "tqdm_bar = tqdm.tqdm(range(TRAINING_STEPS))\n",
    "for step in tqdm_bar:\n",
    "    loss = svi.step(sequence_Y, HIDDEN_STATES)\n",
    "    if step % 100 == 0:\n",
    "         tqdm_bar.set_postfix({'LOSS': loss})"
   ]
  },
  {
   "cell_type": "code",
   "execution_count": 11,
   "metadata": {},
   "outputs": [
    {
     "data": {
      "text/plain": [
       "{'probs_x': tensor([[0.1630, 0.4516, 0.3854],\n",
       "         [0.0065, 0.9811, 0.0123],\n",
       "         [0.1619, 0.2146, 0.6235]], grad_fn=<ExpandBackward0>),\n",
       " 'probs_alpha': tensor([2.2528, 9.6323, 1.5598], grad_fn=<ExpandBackward0>),\n",
       " 'probs_beta': tensor([0.3446, 0.9796, 0.2315], grad_fn=<ExpandBackward0>)}"
      ]
     },
     "execution_count": 11,
     "metadata": {},
     "output_type": "execute_result"
    }
   ],
   "source": [
    "posterior_AwayTeam = guide(sequence_Y,HIDDEN_STATES)\n",
    "posterior_AwayTeam"
   ]
  },
  {
   "cell_type": "code",
   "execution_count": 12,
   "metadata": {},
   "outputs": [],
   "source": [
    "torch.save(posterior_AwayTeam,f\"parameters/univariateHMM_matchday2_AwayTeam_{HIDDEN_STATES}states.pt\")"
   ]
  },
  {
   "cell_type": "markdown",
   "metadata": {},
   "source": [
    "## Bivariate copula model"
   ]
  },
  {
   "cell_type": "code",
   "execution_count": 13,
   "metadata": {},
   "outputs": [
    {
     "data": {
      "text/plain": [
       "torch.Size([1970, 2])"
      ]
     },
     "execution_count": 13,
     "metadata": {},
     "output_type": "execute_result"
    }
   ],
   "source": [
    "sequence_XY = torch.tensor(data[[\"HomeHull\",\"AwayHull\"]].values)\n",
    "sequence_XY.shape"
   ]
  },
  {
   "cell_type": "code",
   "execution_count": 14,
   "metadata": {},
   "outputs": [],
   "source": [
    "pyro.clear_param_store()"
   ]
  },
  {
   "cell_type": "code",
   "execution_count": 15,
   "metadata": {},
   "outputs": [
    {
     "name": "stderr",
     "output_type": "stream",
     "text": [
      "100%|██████████| 500/500 [22:37<00:00,  2.72s/it, LOSS=9.28e+3]\n"
     ]
    }
   ],
   "source": [
    "# Guide\n",
    "guide = AutoDelta(poutine.block(CopulaHMM, expose=[\"probs_x\",\n",
    "                                               \"probs_alpha1\",\n",
    "                                               \"probs_beta1\",\n",
    "                                               \"probs_alpha2\",\n",
    "                                               \"probs_beta2\",\n",
    "                                               \"theta\"\n",
    "                                               ]))\n",
    "# Optimizer\n",
    "optimizer = Adam({\"lr\": 0.01})\n",
    "\n",
    "# Inference algorithm\n",
    "elbo = TraceEnum_ELBO(max_plate_nesting=1)\n",
    "svi = SVI(CopulaHMM, guide, optimizer, loss=elbo)\n",
    "\n",
    "# Training\n",
    "tqdm_bar = tqdm.tqdm(range(TRAINING_STEPS))\n",
    "for step in tqdm_bar:\n",
    "    loss = svi.step(sequence_XY, HIDDEN_STATES)\n",
    "    #if step % 50 == 0:\n",
    "    tqdm_bar.set_postfix({'LOSS': loss})"
   ]
  },
  {
   "cell_type": "code",
   "execution_count": 16,
   "metadata": {},
   "outputs": [],
   "source": [
    "posterior = guide(sequence_XY,HIDDEN_STATES)\n",
    "#posterior"
   ]
  },
  {
   "cell_type": "code",
   "execution_count": 17,
   "metadata": {},
   "outputs": [],
   "source": [
    "torch.save(posterior,f\"parameters/CopulaHMM_matchday2_{HIDDEN_STATES}states.pt\")"
   ]
  },
  {
   "cell_type": "code",
   "execution_count": 18,
   "metadata": {},
   "outputs": [
    {
     "name": "stdout",
     "output_type": "stream",
     "text": [
      ">> Mean of the Convex Hull for home team (STATE 0): 1001.03 m^2\n",
      ">> Mean of the Convex Hull for away team (STATE 0): 640.83 m^2\n",
      ">> Mean of the Convex Hull for home team (STATE 1): 594.12 m^2\n",
      ">> Mean of the Convex Hull for away team (STATE 1): 1096.94 m^2\n",
      ">> Mean of the Convex Hull for home team (STATE 2): 1067.54 m^2\n",
      ">> Mean of the Convex Hull for away team (STATE 2): 1220.47 m^2\n"
     ]
    }
   ],
   "source": [
    "meanH_state0 = posterior[\"probs_alpha1\"][0]/posterior[\"probs_beta1\"][0]*100\n",
    "meanA_state0 = posterior[\"probs_alpha2\"][0]/posterior[\"probs_beta2\"][0]*100\n",
    "meanH_state1 = posterior[\"probs_alpha1\"][1]/posterior[\"probs_beta1\"][1]*100\n",
    "meanA_state1 = posterior[\"probs_alpha2\"][1]/posterior[\"probs_beta2\"][1]*100\n",
    "meanH_state2 = posterior[\"probs_alpha1\"][2]/posterior[\"probs_beta1\"][2]*100\n",
    "meanA_state2 = posterior[\"probs_alpha2\"][2]/posterior[\"probs_beta2\"][2]*100\n",
    "\n",
    "print(f\">> Mean of the Convex Hull for home team (STATE 0): {meanH_state0:.2f} m^2\")\n",
    "print(f\">> Mean of the Convex Hull for away team (STATE 0): {meanA_state0:.2f} m^2\")\n",
    "print(f\">> Mean of the Convex Hull for home team (STATE 1): {meanH_state1:.2f} m^2\")\n",
    "print(f\">> Mean of the Convex Hull for away team (STATE 1): {meanA_state1:.2f} m^2\")\n",
    "print(f\">> Mean of the Convex Hull for home team (STATE 2): {meanH_state2:.2f} m^2\")\n",
    "print(f\">> Mean of the Convex Hull for away team (STATE 2): {meanA_state2:.2f} m^2\")"
   ]
  }
 ],
 "metadata": {
  "kernelspec": {
   "display_name": "dl",
   "language": "python",
   "name": "python3"
  },
  "language_info": {
   "codemirror_mode": {
    "name": "ipython",
    "version": 3
   },
   "file_extension": ".py",
   "mimetype": "text/x-python",
   "name": "python",
   "nbconvert_exporter": "python",
   "pygments_lexer": "ipython3",
   "version": "3.12.1"
  }
 },
 "nbformat": 4,
 "nbformat_minor": 2
}
