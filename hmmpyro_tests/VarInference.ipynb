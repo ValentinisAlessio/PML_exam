{
 "cells": [
  {
   "cell_type": "markdown",
   "metadata": {},
   "source": [
    "# Variational Inference"
   ]
  },
  {
   "cell_type": "markdown",
   "metadata": {},
   "source": [
    "### Estimation of Transition matrix and Emission parameters for each state"
   ]
  },
  {
   "cell_type": "code",
   "execution_count": 1,
   "metadata": {},
   "outputs": [],
   "source": [
    "import numpy as np\n",
    "import torch\n",
    "import pyro\n",
    "from pyro import poutine\n",
    "import pyro.distributions as dist\n",
    "from pyro.infer import SVI, TraceEnum_ELBO\n",
    "from pyro.infer.autoguide import AutoDelta\n",
    "from pyro.optim import Adam\n",
    "import pandas as pd\n",
    "import tqdm"
   ]
  },
  {
   "cell_type": "code",
   "execution_count": 2,
   "metadata": {},
   "outputs": [
    {
     "data": {
      "text/html": [
       "<div>\n",
       "<style scoped>\n",
       "    .dataframe tbody tr th:only-of-type {\n",
       "        vertical-align: middle;\n",
       "    }\n",
       "\n",
       "    .dataframe tbody tr th {\n",
       "        vertical-align: top;\n",
       "    }\n",
       "\n",
       "    .dataframe thead th {\n",
       "        text-align: right;\n",
       "    }\n",
       "</style>\n",
       "<table border=\"1\" class=\"dataframe\">\n",
       "  <thead>\n",
       "    <tr style=\"text-align: right;\">\n",
       "      <th></th>\n",
       "      <th>Time [s]</th>\n",
       "      <th>Period</th>\n",
       "      <th>HomeHull</th>\n",
       "      <th>AwayHull</th>\n",
       "    </tr>\n",
       "  </thead>\n",
       "  <tbody>\n",
       "    <tr>\n",
       "      <th>0</th>\n",
       "      <td>2.0</td>\n",
       "      <td>1.0</td>\n",
       "      <td>561.031976</td>\n",
       "      <td>1195.207383</td>\n",
       "    </tr>\n",
       "    <tr>\n",
       "      <th>1</th>\n",
       "      <td>3.0</td>\n",
       "      <td>1.0</td>\n",
       "      <td>496.093264</td>\n",
       "      <td>1115.390332</td>\n",
       "    </tr>\n",
       "    <tr>\n",
       "      <th>2</th>\n",
       "      <td>4.0</td>\n",
       "      <td>1.0</td>\n",
       "      <td>466.225606</td>\n",
       "      <td>1083.424411</td>\n",
       "    </tr>\n",
       "    <tr>\n",
       "      <th>3</th>\n",
       "      <td>5.0</td>\n",
       "      <td>1.0</td>\n",
       "      <td>503.593453</td>\n",
       "      <td>1105.121644</td>\n",
       "    </tr>\n",
       "    <tr>\n",
       "      <th>4</th>\n",
       "      <td>6.0</td>\n",
       "      <td>1.0</td>\n",
       "      <td>563.030125</td>\n",
       "      <td>1132.199093</td>\n",
       "    </tr>\n",
       "  </tbody>\n",
       "</table>\n",
       "</div>"
      ],
      "text/plain": [
       "   Time [s]  Period    HomeHull     AwayHull\n",
       "0       2.0     1.0  561.031976  1195.207383\n",
       "1       3.0     1.0  496.093264  1115.390332\n",
       "2       4.0     1.0  466.225606  1083.424411\n",
       "3       5.0     1.0  503.593453  1105.121644\n",
       "4       6.0     1.0  563.030125  1132.199093"
      ]
     },
     "execution_count": 2,
     "metadata": {},
     "output_type": "execute_result"
    }
   ],
   "source": [
    "data = pd.read_csv(\"../data/hulls_df_compact_matchday1.csv\")\n",
    "data = data.dropna()\n",
    "data.head()"
   ]
  },
  {
   "cell_type": "markdown",
   "metadata": {},
   "source": [
    "**NOTA:** provare a scalare i dati per vedere:\n",
    "1. se il modello fitta più veloce\n",
    "2. se i parametri finali sono più sensati"
   ]
  },
  {
   "cell_type": "code",
   "execution_count": 12,
   "metadata": {},
   "outputs": [
    {
     "data": {
      "text/plain": [
       "torch.Size([3911])"
      ]
     },
     "execution_count": 12,
     "metadata": {},
     "output_type": "execute_result"
    }
   ],
   "source": [
    "sequence = torch.tensor(data[\"AwayHull\"].values)\n",
    "hidden_dim = 2\n",
    "sequence.shape"
   ]
  },
  {
   "cell_type": "code",
   "execution_count": 6,
   "metadata": {},
   "outputs": [],
   "source": [
    "def model(sequence, hidden_dim, include_prior=True):\n",
    "    length = len(sequence)\n",
    "    with poutine.mask(mask=include_prior):\n",
    "        # Transition probabilities\n",
    "        probs_x = pyro.sample(\n",
    "            \"probs_x\",\n",
    "            dist.Dirichlet(0.9 * torch.eye(hidden_dim) + 0.1).to_event(),\n",
    "        )\n",
    "        # Emission probabilities (1-dimensional for the area)\n",
    "        probs_alpha = pyro.sample(\n",
    "            \"probs_alpha\",\n",
    "            dist.Gamma(1.0, 1.0).expand([hidden_dim]).to_event(1)\n",
    "        )\n",
    "\n",
    "        probs_beta = pyro.sample(\n",
    "            \"probs_beta\",\n",
    "            dist.Gamma(1.0, 1.0).expand([hidden_dim]).to_event(1)\n",
    "        )\n",
    "    \n",
    "    x = 0  # Initial hidden state\n",
    "    for t in pyro.markov(range(length)):\n",
    "        x = pyro.sample(\n",
    "            f\"x_{t}\",\n",
    "            dist.Categorical(probs_x[x]),\n",
    "            infer={\"enumerate\": \"parallel\"},\n",
    "        )\n",
    "        pyro.sample(\n",
    "            f\"y_{t}\",\n",
    "            dist.Gamma(probs_alpha[x], probs_beta[x]),\n",
    "            obs=sequence[t],\n",
    "        )\n",
    "# Define the guide (variational distribution)\n",
    "guide = AutoDelta(poutine.block(model, expose=[\"probs_x\", \"probs_alpha\", \"probs_beta\"]))"
   ]
  },
  {
   "cell_type": "markdown",
   "metadata": {},
   "source": [
    "---\n",
    "\n",
    "**⚠️ DANGER ZONE ⚠️**"
   ]
  },
  {
   "cell_type": "code",
   "execution_count": 7,
   "metadata": {},
   "outputs": [],
   "source": [
    "pyro.clear_param_store()"
   ]
  },
  {
   "cell_type": "markdown",
   "metadata": {},
   "source": [
    "---"
   ]
  },
  {
   "cell_type": "code",
   "execution_count": 14,
   "metadata": {},
   "outputs": [
    {
     "name": "stderr",
     "output_type": "stream",
     "text": [
      "100%|██████████| 1000/1000 [38:17<00:00,  2.30s/it, LOSS=2.76e+4]\n"
     ]
    }
   ],
   "source": [
    "# Optimizer\n",
    "optimizer = Adam({\"lr\": 0.01})\n",
    "\n",
    "# Inference algorithm\n",
    "elbo = TraceEnum_ELBO(max_plate_nesting=1)\n",
    "svi = SVI(model, guide, optimizer, loss=elbo)\n",
    "\n",
    "# Training\n",
    "num_steps = 1000\n",
    "tqdm_bar = tqdm.tqdm(range(num_steps))\n",
    "for step in tqdm_bar:\n",
    "    loss = svi.step(sequence, hidden_dim)\n",
    "    if step % 100 == 0:\n",
    "         tqdm_bar.set_postfix({'LOSS': loss})"
   ]
  },
  {
   "cell_type": "code",
   "execution_count": 15,
   "metadata": {},
   "outputs": [
    {
     "data": {
      "text/plain": [
       "{'probs_x': tensor([[0.9672, 0.0328],\n",
       "         [0.0506, 0.9494]], grad_fn=<ExpandBackward0>),\n",
       " 'probs_alpha': tensor([ 6.5119, 35.4986], grad_fn=<ExpandBackward0>),\n",
       " 'probs_beta': tensor([0.0058, 0.0493], grad_fn=<ExpandBackward0>)}"
      ]
     },
     "execution_count": 15,
     "metadata": {},
     "output_type": "execute_result"
    }
   ],
   "source": [
    "posterior = guide(sequence,hidden_dim)\n",
    "# can i save posterior?\n",
    "posterior"
   ]
  },
  {
   "cell_type": "code",
   "execution_count": 16,
   "metadata": {},
   "outputs": [],
   "source": [
    "torch.save(posterior,\"parameters/singleHMM_away.pt\")"
   ]
  },
  {
   "cell_type": "code",
   "execution_count": 18,
   "metadata": {},
   "outputs": [
    {
     "name": "stdout",
     "output_type": "stream",
     "text": [
      ">> Mean of the Convex Hull for home team (STATE 1): 1122.74 m^2\n"
     ]
    }
   ],
   "source": [
    "mean_state1=6.5119/0.0058\n",
    "print(f\">> Mean of the Convex Hull for home team (STATE 1): {mean_state1:.2f} m^2\")"
   ]
  },
  {
   "cell_type": "code",
   "execution_count": 19,
   "metadata": {},
   "outputs": [
    {
     "name": "stdout",
     "output_type": "stream",
     "text": [
      ">> Mean of the Convex Hull for home team (STATE 2): 720.05 m^2\n"
     ]
    }
   ],
   "source": [
    "mean_state2=35.4986/0.0493\n",
    "print(f\">> Mean of the Convex Hull for home team (STATE 2): {mean_state2:.2f} m^2\")"
   ]
  }
 ],
 "metadata": {
  "kernelspec": {
   "display_name": "dl",
   "language": "python",
   "name": "python3"
  },
  "language_info": {
   "codemirror_mode": {
    "name": "ipython",
    "version": 3
   },
   "file_extension": ".py",
   "mimetype": "text/x-python",
   "name": "python",
   "nbconvert_exporter": "python",
   "pygments_lexer": "ipython3",
   "version": "3.12.1"
  }
 },
 "nbformat": 4,
 "nbformat_minor": 2
}
