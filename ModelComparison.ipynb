{
 "cells": [
  {
   "cell_type": "code",
   "execution_count": 15,
   "metadata": {},
   "outputs": [],
   "source": [
    "import numpy as np\n",
    "import torch\n",
    "import pandas as pd\n",
    "import matplotlib.pyplot as plt\n",
    "import seaborn as sns\n",
    "#from models.BivariateHMM import BivariateHMM\n",
    "from models.CopulaHMM import CopulaHMM\n",
    "from utils.Plots import plotEPS_with_states,plotEPS_distribution"
   ]
  },
  {
   "cell_type": "code",
   "execution_count": 3,
   "metadata": {},
   "outputs": [],
   "source": [
    "DATA_DIR=\"data/\"\n",
    "MAX_HIDDEN_STATES=5\n",
    "MIN_HIDDEN_STATES=2"
   ]
  },
  {
   "cell_type": "code",
   "execution_count": 4,
   "metadata": {},
   "outputs": [],
   "source": [
    "data = pd.read_csv(f\"{DATA_DIR}hulls_df_matchday2_reduced.csv\")\n",
    "data = data.dropna()\n",
    "\n",
    "events=pd.read_csv(f\"{DATA_DIR}matchday2_events.csv\")\n",
    "goals_info=events[events[\"Subtype\"].isin([\"ON TARGET-GOAL\",\"HEAD-ON TARGET-GOAL\",\"WOODWORK-GOAL\"])]\n",
    "home_goals=goals_info[goals_info[\"Team\"]==\"Home\"]\n",
    "away_goals=goals_info[goals_info[\"Team\"]==\"Away\"]\n",
    "shots_info=events[events[\"Type\"]==\"SHOT\"]\n",
    "home_shot=shots_info[shots_info[\"Team\"]==\"Home\"]\n",
    "away_shot=shots_info[shots_info[\"Team\"]==\"Away\"]\n",
    "\n",
    "\n",
    "sequence_XY = torch.tensor(data[[\"HomeHull\",\"AwayHull\"]].values/100)"
   ]
  },
  {
   "cell_type": "markdown",
   "metadata": {},
   "source": [
    "## Quantitative comparison"
   ]
  },
  {
   "cell_type": "code",
   "execution_count": 125,
   "metadata": {},
   "outputs": [],
   "source": [
    "AIC_list=[]\n",
    "for state in range(2,MAX_HIDDEN_STATES+1):\n",
    "    posterior = torch.load(f\"parameters/CopulaHMM_matchday2_{state}states.pt\")\n",
    "    model=CopulaHMM.from_posterior(posterior)\n",
    "    AIC_list.append(model.AIC(sequence_XY).item())"
   ]
  },
  {
   "cell_type": "code",
   "execution_count": 126,
   "metadata": {},
   "outputs": [
    {
     "name": "stdout",
     "output_type": "stream",
     "text": [
      "AIC of the model with 2 hidden states-> 18766.37109375\n",
      "AIC of the model with 3 hidden states-> 17957.654296875\n",
      "AIC of the model with 4 hidden states-> 17971.048828125\n",
      "AIC of the model with 5 hidden states-> 17797.033203125\n"
     ]
    }
   ],
   "source": [
    "for state,aic in enumerate(AIC_list):\n",
    "    print(f\"AIC of the model with {state+MIN_HIDDEN_STATES} hidden states-> {aic}\")"
   ]
  },
  {
   "cell_type": "markdown",
   "metadata": {},
   "source": [
    "## Qualitative comparison"
   ]
  },
  {
   "cell_type": "code",
   "execution_count": 17,
   "metadata": {},
   "outputs": [],
   "source": [
    "colors_list=[\"#FD8033\",\"#0DC2B7\",\"#DAC11E\",\"#D964DC\",\"#37A010\"]"
   ]
  },
  {
   "cell_type": "code",
   "execution_count": 19,
   "metadata": {},
   "outputs": [],
   "source": [
    "def plotEPS_hist(data,class_colors):\n",
    "    fig, ax = plt.subplots(1, 2, figsize=(14, 5))  # Adjusted figsize for better visualization\n",
    "\n",
    "    sns.histplot(x=data[\"HomeHull\"]*100, hue=data[\"HomeMLS\"], kde=True, palette=class_colors, alpha=0.2, ax=ax[0])\n",
    "    ax[0].set_xlabel(\"Convex Hull Area\", fontsize=12, fontweight='normal')\n",
    "    ax[0].set_ylabel(\"Count\", fontsize=12, fontweight='normal')\n",
    "    ax[0].set_title(\"Home Team Convex Hull Area by State\", fontsize=15, fontweight='bold')\n",
    "\n",
    "    sns.histplot(x=data[\"AwayHull\"], hue=data[\"AwayMLS\"], kde=True, palette=class_colors, alpha=0.2, ax=ax[1])\n",
    "    ax[1].set_xlabel(\"Convex Hull Area\", fontsize=12, fontweight='normal')\n",
    "    ax[1].set_ylabel(\"Count\", fontsize=12, fontweight='normal')\n",
    "    ax[1].set_title(\"Away Team Convex Hull Area by State\", fontsize=15, fontweight='bold')\n",
    "\n",
    "    plt.subplots_adjust(hspace=0.45)\n",
    "    plt.close(fig)\n",
    "    return fig"
   ]
  },
  {
   "cell_type": "code",
   "execution_count": 22,
   "metadata": {},
   "outputs": [
    {
     "name": "stdout",
     "output_type": "stream",
     "text": [
      "{'probs_initial': tensor([0.9140, 0.0860], requires_grad=True), 'probs_x': tensor([[0.9536, 0.0464],\n",
      "        [0.0502, 0.9498]], requires_grad=True), 'probs_alpha1': tensor([ 6.3268, 13.0156], requires_grad=True), 'probs_beta1': tensor([0.8216, 1.3320], requires_grad=True), 'probs_alpha2': tensor([22.3060, 10.9269], requires_grad=True), 'probs_beta2': tensor([1.8945, 1.6462], requires_grad=True), 'theta': tensor([0.4305, 0.5557], requires_grad=True)}\n",
      "{0: '#FD8033', 1: '#0DC2B7'}\n",
      "{'probs_initial': tensor([0.9138, 0.0224, 0.0638], requires_grad=True), 'probs_x': tensor([[0.9138, 0.0471, 0.0391],\n",
      "        [0.0171, 0.9499, 0.0330],\n",
      "        [0.0355, 0.0348, 0.9297]], requires_grad=True), 'probs_alpha1': tensor([ 7.9685, 23.8327, 13.2033], requires_grad=True), 'probs_beta1': tensor([1.5057, 2.2917, 1.5057], requires_grad=True), 'probs_alpha2': tensor([12.1551, 10.7805, 35.6327], requires_grad=True), 'probs_beta2': tensor([1.3643, 1.5773, 2.7527], requires_grad=True), 'theta': tensor([1.1439, 0.1228, 1.3336], requires_grad=True)}\n",
      "{0: '#FD8033', 1: '#0DC2B7', 2: '#DAC11E'}\n",
      "{'probs_initial': tensor([0.0210, 0.8796, 0.0327, 0.0667], requires_grad=True), 'probs_x': tensor([[0.8700, 0.0255, 0.0732, 0.0312],\n",
      "        [0.0225, 0.8730, 0.0511, 0.0535],\n",
      "        [0.0245, 0.0207, 0.9274, 0.0275],\n",
      "        [0.0247, 0.0325, 0.0223, 0.9206]], requires_grad=True), 'probs_alpha1': tensor([12.1372,  9.0392, 13.6572, 11.4775], requires_grad=True), 'probs_beta1': tensor([1.0240, 1.8927, 1.3469, 1.5273], requires_grad=True), 'probs_alpha2': tensor([13.3585,  9.8938, 10.9514, 12.8436], requires_grad=True), 'probs_beta2': tensor([1.1665, 1.1166, 1.6866, 1.0128], requires_grad=True), 'theta': tensor([4.5755, 1.8393, 1.1570, 1.0387], requires_grad=True)}\n",
      "{0: '#FD8033', 1: '#0DC2B7', 2: '#DAC11E', 3: '#D964DC'}\n",
      "{'probs_initial': tensor([0.0155, 0.0195, 0.0191, 0.8671, 0.0787], requires_grad=True), 'probs_x': tensor([[0.9415, 0.0099, 0.0267, 0.0058, 0.0161],\n",
      "        [0.0792, 0.6662, 0.0986, 0.0648, 0.0913],\n",
      "        [0.0761, 0.0405, 0.8198, 0.0294, 0.0342],\n",
      "        [0.0247, 0.0162, 0.0211, 0.8872, 0.0507],\n",
      "        [0.0296, 0.0273, 0.0373, 0.0458, 0.8601]], requires_grad=True), 'probs_alpha1': tensor([22.5745, 11.2888, 10.8536,  8.0575, 11.3257], requires_grad=True), 'probs_beta1': tensor([2.1682, 0.7998, 1.2627, 1.7258, 1.4953], requires_grad=True), 'probs_alpha2': tensor([11.4937, 13.5732, 15.3972, 10.5419, 15.3097], requires_grad=True), 'probs_beta2': tensor([1.7776, 1.1087, 1.6052, 1.2060, 1.1540], requires_grad=True), 'theta': tensor([0.2562, 5.4166, 8.3810, 1.7235, 1.1514], requires_grad=True)}\n",
      "{0: '#FD8033', 1: '#0DC2B7', 2: '#DAC11E', 3: '#D964DC', 4: '#37A010'}\n"
     ]
    }
   ],
   "source": [
    "for state in range(2,MAX_HIDDEN_STATES+1):\n",
    "    posterior = torch.load(f\"parameters/CopulaHMM_matchday2_{state}states.pt\")\n",
    "    #print(posterior)\n",
    "    model=CopulaHMM.from_posterior(posterior)\n",
    "    MLS=model.viterbi(sequence_XY)\n",
    "    # data[f\"State_{state}\"]=MLS.numpy()\n",
    "    class_colors = {k: colors_list[k] for k in range(state)}\n",
    "    print(class_colors)\n",
    "    # p1=plotEPS_distribution(data,class_colors)\n",
    "    # p2=plotEPS_with_states(data,home_goals,away_goals,home_shot,away_shot,class_colors)\n",
    "    # p3 = plotEPS_hist(data,class_colors)\n",
    "    # # -----Save-----\n",
    "    # #p1.savefig(f\"plots/EPS_distribution_matchday2_{HIDDEN_STATES}states.png\",dpi=350)\n",
    "    # #p2.savefig(f\"plots/EPS_with_states_matchday2_{HIDDEN_STATES}states.png\",dpi=350)\n",
    "    # p3.savefig(f\"plots/EPS_hist_matchday2_{state}states.png\",dpi=350)"
   ]
  },
  {
   "cell_type": "code",
   "execution_count": null,
   "metadata": {},
   "outputs": [],
   "source": []
  }
 ],
 "metadata": {
  "kernelspec": {
   "display_name": "Python 3",
   "language": "python",
   "name": "python3"
  },
  "language_info": {
   "codemirror_mode": {
    "name": "ipython",
    "version": 3
   },
   "file_extension": ".py",
   "mimetype": "text/x-python",
   "name": "python",
   "nbconvert_exporter": "python",
   "pygments_lexer": "ipython3",
   "version": "3.12.1"
  }
 },
 "nbformat": 4,
 "nbformat_minor": 2
}
