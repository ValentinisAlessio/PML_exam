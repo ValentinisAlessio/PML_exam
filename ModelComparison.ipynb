{
 "cells": [
  {
   "cell_type": "code",
   "execution_count": 5,
   "metadata": {},
   "outputs": [],
   "source": [
    "import numpy as np\n",
    "import torch\n",
    "import pandas as pd\n",
    "import matplotlib.pyplot as plt\n",
    "import seaborn as sns\n",
    "#from models.BivariateHMM import BivariateHMM\n",
    "from models.CopulaHMM import CopulaHMM\n",
    "from utils.Plots import plotEPS_with_states, plotEPS_distribution, plotEPS_hist"
   ]
  },
  {
   "cell_type": "code",
   "execution_count": 6,
   "metadata": {},
   "outputs": [],
   "source": [
    "DATA_DIR=\"data/\"\n",
    "MAX_HIDDEN_STATES=5\n",
    "MIN_HIDDEN_STATES=2"
   ]
  },
  {
   "cell_type": "code",
   "execution_count": 7,
   "metadata": {},
   "outputs": [],
   "source": [
    "data = pd.read_csv(f\"{DATA_DIR}hulls_df_matchday2_reduced.csv\")\n",
    "data = data.dropna()\n",
    "\n",
    "events=pd.read_csv(f\"{DATA_DIR}matchday2_events.csv\")\n",
    "goals_info=events[events[\"Subtype\"].isin([\"ON TARGET-GOAL\",\"HEAD-ON TARGET-GOAL\",\"WOODWORK-GOAL\"])]\n",
    "home_goals=goals_info[goals_info[\"Team\"]==\"Home\"]\n",
    "away_goals=goals_info[goals_info[\"Team\"]==\"Away\"]\n",
    "shots_info=events[events[\"Type\"]==\"SHOT\"]\n",
    "home_shot=shots_info[shots_info[\"Team\"]==\"Home\"]\n",
    "away_shot=shots_info[shots_info[\"Team\"]==\"Away\"]\n",
    "\n",
    "\n",
    "sequence_XY = torch.tensor(data[[\"HomeHull\",\"AwayHull\"]].values/100)"
   ]
  },
  {
   "cell_type": "markdown",
   "metadata": {},
   "source": [
    "## Quantitative comparison"
   ]
  },
  {
   "cell_type": "code",
   "execution_count": 8,
   "metadata": {},
   "outputs": [],
   "source": [
    "AIC_list=[]\n",
    "for state in range(2,MAX_HIDDEN_STATES+1):\n",
    "    posterior = torch.load(f\"parameters/CopulaHMM_matchday2_{state}states.pt\")\n",
    "    model=CopulaHMM.from_posterior(posterior)\n",
    "    AIC_list.append(model.AIC(sequence_XY).item())"
   ]
  },
  {
   "cell_type": "code",
   "execution_count": 9,
   "metadata": {},
   "outputs": [
    {
     "name": "stdout",
     "output_type": "stream",
     "text": [
      "AIC of the model with 2 hidden states-> 18766.857421875\n",
      "AIC of the model with 3 hidden states-> 17959.25390625\n",
      "AIC of the model with 4 hidden states-> 17970.115234375\n",
      "AIC of the model with 5 hidden states-> 17792.74609375\n"
     ]
    }
   ],
   "source": [
    "for state,aic in enumerate(AIC_list):\n",
    "    print(f\"AIC of the model with {state+MIN_HIDDEN_STATES} hidden states-> {aic}\")"
   ]
  },
  {
   "cell_type": "markdown",
   "metadata": {},
   "source": [
    "## Qualitative comparison"
   ]
  },
  {
   "cell_type": "code",
   "execution_count": 10,
   "metadata": {},
   "outputs": [],
   "source": [
    "colors_list=[\"#FD8033\",\"#0DC2B7\",\"#DAC11E\",\"#D964DC\",\"#37A010\"]"
   ]
  },
  {
   "cell_type": "code",
   "execution_count": 11,
   "metadata": {},
   "outputs": [],
   "source": [
    "for state in range(2,MAX_HIDDEN_STATES+1):\n",
    "    posterior = torch.load(f\"parameters/CopulaHMM_matchday2_{state}states.pt\")\n",
    "    model=CopulaHMM.from_posterior(posterior)\n",
    "    MLS=model.viterbi(sequence_XY)\n",
    "    data[\"State\"]=MLS.numpy()\n",
    "    class_colors = {k: colors_list[k] for k in range(state)}\n",
    "    p1=plotEPS_distribution(data,class_colors)\n",
    "    p2=plotEPS_with_states(data,home_goals,away_goals,home_shot,away_shot,class_colors)\n",
    "    p3 = plotEPS_hist(data,class_colors)\n",
    "    # -----Save-----\n",
    "    # p1.savefig(f\"plots/EPS_distribution_matchday2_{state}states.png\",dpi=350)\n",
    "    # p2.savefig(f\"plots/EPS_with_states_matchday2_{state}states.png\",dpi=350)\n",
    "    # p3.savefig(f\"plots/EPS_hist_matchday2_{state}states.png\",dpi=350)"
   ]
  }
 ],
 "metadata": {
  "kernelspec": {
   "display_name": "Python 3",
   "language": "python",
   "name": "python3"
  },
  "language_info": {
   "codemirror_mode": {
    "name": "ipython",
    "version": 3
   },
   "file_extension": ".py",
   "mimetype": "text/x-python",
   "name": "python",
   "nbconvert_exporter": "python",
   "pygments_lexer": "ipython3",
   "version": "3.12.1"
  }
 },
 "nbformat": 4,
 "nbformat_minor": 2
}
