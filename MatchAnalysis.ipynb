{
 "cells": [
  {
   "cell_type": "code",
   "execution_count": 1,
   "metadata": {},
   "outputs": [],
   "source": [
    "import numpy as np\n",
    "import torch\n",
    "import pandas as pd\n",
    "import matplotlib.pyplot as plt\n",
    "import seaborn as sns\n",
    "from utils.Plots import PlotPitch, PlotGIF, plotEPS_with_states\n",
    "from models.CopulaHMM import CopulaHMM"
   ]
  },
  {
   "cell_type": "code",
   "execution_count": 2,
   "metadata": {},
   "outputs": [],
   "source": [
    "data=pd.read_csv('data/hulls_df_matchday2_reduced.csv')\n",
    "events=pd.read_csv(f\"data/matchday2_events.csv\")\n",
    "home_xy=pd.read_csv(f\"data/home_xy.csv\")\n",
    "away_xy=pd.read_csv(f\"data/away_xy.csv\")\n",
    "goals_info=events[events[\"Subtype\"].isin([\"ON TARGET-GOAL\",\"HEAD-ON TARGET-GOAL\",\"WOODWORK-GOAL\"])]\n",
    "home_goals=goals_info[goals_info[\"Team\"]==\"Home\"]\n",
    "away_goals=goals_info[goals_info[\"Team\"]==\"Away\"]\n",
    "shots_info=events[events[\"Type\"]==\"SHOT\"]\n",
    "home_shot=shots_info[shots_info[\"Team\"]==\"Home\"]\n",
    "away_shot=shots_info[shots_info[\"Team\"]==\"Away\"]\n",
    "sequence_XY = torch.tensor(data[[\"HomeHull\",\"AwayHull\"]].values/100)\n",
    "completedata = pd.read_csv('data/hulls_df_matchday2.csv')"
   ]
  },
  {
   "cell_type": "markdown",
   "metadata": {},
   "source": [
    "## Preliminary analysis"
   ]
  },
  {
   "cell_type": "code",
   "execution_count": null,
   "metadata": {},
   "outputs": [],
   "source": [
    "fig, axs = plt.subplots(2, 1, figsize=(8, 5))\n",
    "sns.histplot(data[\"HomeHull\"], kde=True, color='blue',alpha=0.4,ax=axs[0],bins=50)\n",
    "axs[0].axvline(data[\"HomeHull\"].mean(), color='navy', linestyle='--', linewidth=2.5)\n",
    "axs[0].set_xlabel(\"Convex Hull Area\", fontsize=8, fontweight='normal');\n",
    "axs[0].set_ylabel(\"Count\", fontsize=8, fontweight='normal');\n",
    "axs[0].set_title(\"Distribution of Home team's Convex Hull Area\", fontsize=10, fontweight='bold');\n",
    "sns.histplot(data[\"AwayHull\"], kde=True, color='red',alpha=0.4,ax=axs[1],bins=50)\n",
    "axs[1].axvline(data[\"AwayHull\"].mean(), color='darkred', linestyle='--', linewidth=2.5)\n",
    "axs[1].set_xlabel(\"Convex Hull Area\", fontsize=8, fontweight='normal');\n",
    "axs[1].set_ylabel(\"Count\", fontsize=8, fontweight='normal');\n",
    "axs[1].set_title(\"Distribution of Away team's Convex Hull Area\", fontsize=10, fontweight='bold');\n",
    "plt.subplots_adjust(hspace=0.5)\n",
    "#plt.savefig(\"plots/ConvexHull_Distribution_matchday2.png\", dpi=350, bbox_inches='tight')"
   ]
  },
  {
   "cell_type": "code",
   "execution_count": null,
   "metadata": {},
   "outputs": [],
   "source": [
    "custom_palette = [\"black\", \"#ff7f0e\"]\n",
    "plt.figure(figsize=(8, 6))\n",
    "sns.scatterplot(data=data, x=\"HomeHull\", y=\"AwayHull\", hue=\"Period\", palette=custom_palette, s=5)\n",
    "plt.xlabel(\"Home team's Convex Hull Area\", fontsize=10, fontweight='normal');\n",
    "plt.ylabel(\"Away team's Convex Hull Area\", fontsize=10, fontweight='normal');\n",
    "plt.title(\"Correlation between Convex Hull Areas by Period\", fontsize=12, fontweight='bold');\n",
    "#plt.savefig(\"plots/ConvexHulls_correlation_matchday2.png\", dpi=350, bbox_inches='tight')"
   ]
  },
  {
   "cell_type": "markdown",
   "metadata": {},
   "source": [
    "## Viterbi&Co."
   ]
  },
  {
   "cell_type": "markdown",
   "metadata": {},
   "source": [
    "The model with 4 states is the most interesting from an interpretability point of view"
   ]
  },
  {
   "cell_type": "code",
   "execution_count": 3,
   "metadata": {},
   "outputs": [],
   "source": [
    "posterior=torch.load(f\"parameters/CopulaHMM_matchday2_4states.pt\")"
   ]
  },
  {
   "cell_type": "code",
   "execution_count": 4,
   "metadata": {},
   "outputs": [],
   "source": [
    "model=CopulaHMM.from_posterior(posterior)\n",
    "MLS=model.viterbi(sequence_XY)\n",
    "data[\"State\"]=MLS.numpy()"
   ]
  },
  {
   "cell_type": "code",
   "execution_count": 5,
   "metadata": {},
   "outputs": [
    {
     "name": "stdout",
     "output_type": "stream",
     "text": [
      "--------------------------------------------------------------------\n",
      "STATE 0:\n",
      ">> Mean of the Convex Hull for home team : 1185.22 m^2\n",
      ">> Std of the Convex Hull for home team  : 340.21 m^2\n",
      ">> Mean of the Convex Hull for away team : 1145.19 m^2\n",
      ">> Std of the Convex Hull for away team  : 313.33 m^2\n",
      "--------------------------------------------------------------------\n",
      "STATE 1:\n",
      ">> Mean of the Convex Hull for home team : 477.59 m^2\n",
      ">> Std of the Convex Hull for home team  : 158.85 m^2\n",
      ">> Mean of the Convex Hull for away team : 886.10 m^2\n",
      ">> Std of the Convex Hull for away team  : 281.71 m^2\n",
      "--------------------------------------------------------------------\n",
      "STATE 2:\n",
      ">> Mean of the Convex Hull for home team : 1013.96 m^2\n",
      ">> Std of the Convex Hull for home team  : 274.37 m^2\n",
      ">> Mean of the Convex Hull for away team : 649.33 m^2\n",
      ">> Std of the Convex Hull for away team  : 196.21 m^2\n",
      "--------------------------------------------------------------------\n",
      "STATE 3:\n",
      ">> Mean of the Convex Hull for home team : 751.47 m^2\n",
      ">> Std of the Convex Hull for home team  : 221.81 m^2\n",
      ">> Mean of the Convex Hull for away team : 1268.14 m^2\n",
      ">> Std of the Convex Hull for away team  : 353.85 m^2\n",
      "--------------------------------------------------------------------\n"
     ]
    }
   ],
   "source": [
    "model.print_estimates()"
   ]
  },
  {
   "cell_type": "markdown",
   "metadata": {},
   "source": [
    "---\n",
    "## NEW"
   ]
  },
  {
   "cell_type": "markdown",
   "metadata": {},
   "source": [
    "Collect some statistics for states."
   ]
  },
  {
   "cell_type": "code",
   "execution_count": 6,
   "metadata": {},
   "outputs": [
    {
     "data": {
      "text/html": [
       "<div>\n",
       "<style scoped>\n",
       "    .dataframe tbody tr th:only-of-type {\n",
       "        vertical-align: middle;\n",
       "    }\n",
       "\n",
       "    .dataframe tbody tr th {\n",
       "        vertical-align: top;\n",
       "    }\n",
       "\n",
       "    .dataframe thead th {\n",
       "        text-align: right;\n",
       "    }\n",
       "</style>\n",
       "<table border=\"1\" class=\"dataframe\">\n",
       "  <thead>\n",
       "    <tr style=\"text-align: right;\">\n",
       "      <th></th>\n",
       "      <th>Time [s]</th>\n",
       "      <th>Period</th>\n",
       "      <th>HomeHull</th>\n",
       "      <th>AwayHull</th>\n",
       "      <th>State</th>\n",
       "    </tr>\n",
       "  </thead>\n",
       "  <tbody>\n",
       "    <tr>\n",
       "      <th>0</th>\n",
       "      <td>2.0</td>\n",
       "      <td>1.0</td>\n",
       "      <td>597.464015</td>\n",
       "      <td>810.521383</td>\n",
       "      <td>1</td>\n",
       "    </tr>\n",
       "    <tr>\n",
       "      <th>1</th>\n",
       "      <td>4.0</td>\n",
       "      <td>1.0</td>\n",
       "      <td>647.023869</td>\n",
       "      <td>944.579702</td>\n",
       "      <td>3</td>\n",
       "    </tr>\n",
       "    <tr>\n",
       "      <th>2</th>\n",
       "      <td>6.0</td>\n",
       "      <td>1.0</td>\n",
       "      <td>668.716043</td>\n",
       "      <td>1061.570185</td>\n",
       "      <td>3</td>\n",
       "    </tr>\n",
       "    <tr>\n",
       "      <th>3</th>\n",
       "      <td>8.0</td>\n",
       "      <td>1.0</td>\n",
       "      <td>657.826932</td>\n",
       "      <td>1236.516611</td>\n",
       "      <td>3</td>\n",
       "    </tr>\n",
       "    <tr>\n",
       "      <th>4</th>\n",
       "      <td>10.0</td>\n",
       "      <td>1.0</td>\n",
       "      <td>684.343047</td>\n",
       "      <td>1470.159649</td>\n",
       "      <td>3</td>\n",
       "    </tr>\n",
       "  </tbody>\n",
       "</table>\n",
       "</div>"
      ],
      "text/plain": [
       "   Time [s]  Period    HomeHull     AwayHull  State\n",
       "0       2.0     1.0  597.464015   810.521383      1\n",
       "1       4.0     1.0  647.023869   944.579702      3\n",
       "2       6.0     1.0  668.716043  1061.570185      3\n",
       "3       8.0     1.0  657.826932  1236.516611      3\n",
       "4      10.0     1.0  684.343047  1470.159649      3"
      ]
     },
     "execution_count": 6,
     "metadata": {},
     "output_type": "execute_result"
    }
   ],
   "source": [
    "data.head()"
   ]
  },
  {
   "cell_type": "code",
   "execution_count": 27,
   "metadata": {},
   "outputs": [
    {
     "data": {
      "text/plain": [
       "[2.0,\n",
       " 4.0,\n",
       " 98.0,\n",
       " 186.0,\n",
       " 208.0,\n",
       " 234.0,\n",
       " 255.0,\n",
       " 291.0,\n",
       " 315.0,\n",
       " 336.0,\n",
       " 350.0,\n",
       " 462.0,\n",
       " 472.0,\n",
       " 478.0,\n",
       " 553.0,\n",
       " 573.0,\n",
       " 610.0,\n",
       " 654.0,\n",
       " 672.0,\n",
       " 696.0,\n",
       " 793.0,\n",
       " 845.0,\n",
       " 900.0,\n",
       " 908.0,\n",
       " 972.0,\n",
       " 1006.0,\n",
       " 1106.0,\n",
       " 1140.0,\n",
       " 1215.0,\n",
       " 1243.0,\n",
       " 1249.0,\n",
       " 1339.0,\n",
       " 1357.0,\n",
       " 1373.0,\n",
       " 1389.0,\n",
       " 1395.0,\n",
       " 1437.0,\n",
       " 1460.0,\n",
       " 1531.0,\n",
       " 1541.0,\n",
       " 1549.0,\n",
       " 1573.0,\n",
       " 1607.0,\n",
       " 1615.0,\n",
       " 1673.0,\n",
       " 1756.0,\n",
       " 1778.0,\n",
       " 1822.0,\n",
       " 1838.0,\n",
       " 1858.0,\n",
       " 1886.0,\n",
       " 1947.0,\n",
       " 1991.0,\n",
       " 2020.0,\n",
       " 2044.0,\n",
       " 2068.0,\n",
       " 2104.0,\n",
       " 2122.0,\n",
       " 2197.0,\n",
       " 2221.0,\n",
       " 2261.0,\n",
       " 2291.0,\n",
       " 2334.0,\n",
       " 2402.0,\n",
       " 2443.0,\n",
       " 2495.0,\n",
       " 2555.0,\n",
       " 2571.0,\n",
       " 2579.0,\n",
       " 2595.0,\n",
       " 2653.0,\n",
       " 2675.0,\n",
       " 2697.0,\n",
       " 2739.0,\n",
       " 2747.0,\n",
       " 2796.0,\n",
       " 2808.0,\n",
       " 2820.0,\n",
       " 2886.0,\n",
       " 2906.0,\n",
       " 2944.0,\n",
       " 3020.0,\n",
       " 3034.0,\n",
       " 3042.0,\n",
       " 3060.0,\n",
       " 3090.0,\n",
       " 3138.0,\n",
       " 3150.0,\n",
       " 3164.0,\n",
       " 3201.0,\n",
       " 3346.0,\n",
       " 3462.0,\n",
       " 3478.0,\n",
       " 3564.0,\n",
       " 3599.0,\n",
       " 3636.0,\n",
       " 3648.0,\n",
       " 3879.0,\n",
       " 3901.0,\n",
       " 3946.0,\n",
       " 3978.0,\n",
       " 4017.0,\n",
       " 4031.0,\n",
       " 4075.0,\n",
       " 4147.0,\n",
       " 4281.0,\n",
       " 4321.0,\n",
       " 4331.0,\n",
       " 4374.0,\n",
       " 4446.0,\n",
       " 4460.0,\n",
       " 4671.0,\n",
       " 4826.0,\n",
       " 4836.0,\n",
       " 4917.0,\n",
       " 4921.0,\n",
       " 4937.0,\n",
       " 4961.0,\n",
       " 4967.0,\n",
       " 4999.0,\n",
       " 5019.0,\n",
       " 5097.0,\n",
       " 5107.0,\n",
       " 5196.0,\n",
       " 5350.0,\n",
       " 5386.0,\n",
       " 5484.0,\n",
       " 5601.0,\n",
       " 5611.0,\n",
       " 5631.0]"
      ]
     },
     "execution_count": 27,
     "metadata": {},
     "output_type": "execute_result"
    }
   ],
   "source": [
    "# Take \"Time [s]\" of each new state\n",
    "time_separators = []\n",
    "time_separators.append(data[\"Time [s]\"][0])\n",
    "state_separators = []\n",
    "for row in range(1,len(data)):\n",
    "    if data[\"State\"][row]!=data[\"State\"][row-1]:\n",
    "        time_separators.append(data[\"Time [s]\"][row])\n",
    "        state_separators.append(data[\"State\"][row-1])\n",
    "state_separators.append(data[\"State\"][len(data)-1])\n",
    "\n",
    "time_separators\n",
    "# state_separators"
   ]
  },
  {
   "cell_type": "code",
   "execution_count": 32,
   "metadata": {},
   "outputs": [
    {
     "data": {
      "text/plain": [
       "array(['SET PIECE', 'PASS', 'BALL LOST', 'CHALLENGE', 'RECOVERY',\n",
       "       'BALL OUT', 'SHOT', 'FAULT RECEIVED', 'CARD'], dtype=object)"
      ]
     },
     "execution_count": 32,
     "metadata": {},
     "output_type": "execute_result"
    }
   ],
   "source": [
    "events[\"Type\"].unique()"
   ]
  },
  {
   "cell_type": "code",
   "execution_count": 31,
   "metadata": {},
   "outputs": [
    {
     "data": {
      "text/html": [
       "<div>\n",
       "<style scoped>\n",
       "    .dataframe tbody tr th:only-of-type {\n",
       "        vertical-align: middle;\n",
       "    }\n",
       "\n",
       "    .dataframe tbody tr th {\n",
       "        vertical-align: top;\n",
       "    }\n",
       "\n",
       "    .dataframe thead th {\n",
       "        text-align: right;\n",
       "    }\n",
       "</style>\n",
       "<table border=\"1\" class=\"dataframe\">\n",
       "  <thead>\n",
       "    <tr style=\"text-align: right;\">\n",
       "      <th></th>\n",
       "      <th>State</th>\n",
       "      <th>Passes_Home</th>\n",
       "      <th>Passes_Away</th>\n",
       "    </tr>\n",
       "  </thead>\n",
       "  <tbody>\n",
       "    <tr>\n",
       "      <th>0</th>\n",
       "      <td>0</td>\n",
       "      <td>56</td>\n",
       "      <td>36</td>\n",
       "    </tr>\n",
       "    <tr>\n",
       "      <th>1</th>\n",
       "      <td>1</td>\n",
       "      <td>33</td>\n",
       "      <td>97</td>\n",
       "    </tr>\n",
       "    <tr>\n",
       "      <th>2</th>\n",
       "      <td>2</td>\n",
       "      <td>423</td>\n",
       "      <td>40</td>\n",
       "    </tr>\n",
       "    <tr>\n",
       "      <th>3</th>\n",
       "      <td>3</td>\n",
       "      <td>31</td>\n",
       "      <td>248</td>\n",
       "    </tr>\n",
       "  </tbody>\n",
       "</table>\n",
       "</div>"
      ],
      "text/plain": [
       "   State  Passes_Home  Passes_Away\n",
       "0      0           56           36\n",
       "1      1           33           97\n",
       "2      2          423           40\n",
       "3      3           31          248"
      ]
     },
     "execution_count": 31,
     "metadata": {},
     "output_type": "execute_result"
    }
   ],
   "source": [
    "pass_stats = pd.DataFrame(columns=[\"State\",\"Passes_Home\",\"Passes_Away\"])\n",
    "\n",
    "for i in range(len(time_separators)-1):\n",
    "    state = state_separators[i]\n",
    "    start_time = time_separators[i]\n",
    "    end_time = time_separators[i+1]\n",
    "    passes_home = len(events[(events[\"Type\"]==\"PASS\") & (events[\"Team\"]==\"Home\") & (events[\"Start Time [s]\"]>=start_time) & (events[\"Start Time [s]\"]<end_time)])\n",
    "    passes_away = len(events[(events[\"Type\"]==\"PASS\") & (events[\"Team\"]==\"Away\") & (events[\"Start Time [s]\"]>=start_time) & (events[\"Start Time [s]\"]<end_time)])\n",
    "    pass_stats.loc[i] = [state,passes_home,passes_away]\n",
    "    \n",
    "# Group by state\n",
    "pass_stats_grouped = pass_stats.groupby(\"State\").sum().reset_index()\n",
    "\n",
    "pass_stats_grouped"
   ]
  },
  {
   "cell_type": "markdown",
   "metadata": {},
   "source": [
    "---"
   ]
  },
  {
   "cell_type": "markdown",
   "metadata": {},
   "source": [
    "Let's now inspect the % of each state during the match:"
   ]
  },
  {
   "cell_type": "code",
   "execution_count": null,
   "metadata": {},
   "outputs": [],
   "source": [
    "state_colors= {0:\"#FD8033\",\n",
    "               1:\"#0DC2B7\",\n",
    "               2:\"#DAC11E\",\n",
    "               3:\"#D964DC\"}\n",
    "plt.figure(figsize=(8, 6))\n",
    "sns.countplot(data=data, x=\"State\",stat=\"proportion\",hue=\"State\",palette=state_colors,edgecolor='black')\n",
    "plt.xlabel(\"\");\n",
    "plt.xticks([0,1,2,3],[\"State 0\",\"State 1\",\"State 2\",\"State 3\"], fontsize=12)\n",
    "plt.ylabel(\"Proportion\", fontsize=12, fontweight='normal');\n",
    "plt.yticks(fontsize=10)\n",
    "plt.title(\"Proportion of each state during the match\", fontsize=12, fontweight='bold');\n",
    "plt.legend([],[], frameon=False);\n",
    "#plt.savefig(\"plots/State_Proportion_matchday2.png\", dpi=350, bbox_inches='tight')"
   ]
  },
  {
   "cell_type": "markdown",
   "metadata": {},
   "source": [
    "## Different EPS assiciated to different states"
   ]
  },
  {
   "cell_type": "markdown",
   "metadata": {},
   "source": [
    "Example of Home EPS > Away EPS"
   ]
  },
  {
   "cell_type": "code",
   "execution_count": null,
   "metadata": {},
   "outputs": [],
   "source": [
    "PlotPitch(frame=51,\n",
    "          lag=51,\n",
    "          home_xy=home_xy,\n",
    "          away_xy=away_xy,\n",
    "          plotHulls=True,\n",
    "          plotAllPlayers=True,\n",
    "          title=\"\")"
   ]
  },
  {
   "cell_type": "code",
   "execution_count": null,
   "metadata": {},
   "outputs": [],
   "source": [
    "PlotPitch(frame=47701,\n",
    "          lag=51,\n",
    "          home_xy=home_xy,\n",
    "          away_xy=away_xy,\n",
    "          plotHulls=True,\n",
    "          plotAllPlayers=True,\n",
    "          title=\"\")"
   ]
  },
  {
   "cell_type": "markdown",
   "metadata": {},
   "source": [
    "Example of Home EPS < Away EPS"
   ]
  },
  {
   "cell_type": "code",
   "execution_count": null,
   "metadata": {},
   "outputs": [],
   "source": [
    "PlotPitch(frame=30330,\n",
    "          lag=51,\n",
    "          home_xy=home_xy,\n",
    "          away_xy=away_xy,\n",
    "          plotHulls=True,\n",
    "          plotAllPlayers=True,\n",
    "          title=\"\")"
   ]
  },
  {
   "cell_type": "markdown",
   "metadata": {},
   "source": [
    "Example of Home EPS and Away EPS both small"
   ]
  },
  {
   "cell_type": "code",
   "execution_count": null,
   "metadata": {},
   "outputs": [],
   "source": [
    "PlotPitch(frame=91010,\n",
    "          lag=51,\n",
    "          home_xy=home_xy,\n",
    "          away_xy=away_xy,\n",
    "          plotHulls=True,\n",
    "          plotAllPlayers=True,\n",
    "          title=\"\")"
   ]
  },
  {
   "cell_type": "markdown",
   "metadata": {},
   "source": [
    "Example of Home EPS and Away EPS both extended"
   ]
  },
  {
   "cell_type": "code",
   "execution_count": null,
   "metadata": {},
   "outputs": [],
   "source": [
    "PlotPitch(frame=11720,\n",
    "          lag=51,\n",
    "          home_xy=home_xy,\n",
    "          away_xy=away_xy,\n",
    "          plotHulls=True,\n",
    "          plotAllPlayers=True,\n",
    "          title=\"\")"
   ]
  },
  {
   "cell_type": "markdown",
   "metadata": {},
   "source": [
    "# GIF"
   ]
  },
  {
   "cell_type": "markdown",
   "metadata": {},
   "source": [
    "Kick off (start of the match)"
   ]
  },
  {
   "cell_type": "code",
   "execution_count": null,
   "metadata": {},
   "outputs": [],
   "source": [
    "# PlotGIF(home_xy, away_xy, initial_frame=51,final_frame=350,lag=51,step=2,\n",
    "#         gifname=\"gifs/plot_goal1_HomeTeam.gif\",title=\"Kick off (start of the match)\")"
   ]
  },
  {
   "cell_type": "markdown",
   "metadata": {},
   "source": [
    "Goals:"
   ]
  },
  {
   "cell_type": "code",
   "execution_count": null,
   "metadata": {},
   "outputs": [],
   "source": [
    "goals_info"
   ]
  },
  {
   "cell_type": "markdown",
   "metadata": {},
   "source": [
    "NB: since the table above shows the starting frame of the goals, in the following GIFs we'll show the action from 3 seconds before (3 seconds= 75 frames before)"
   ]
  },
  {
   "cell_type": "code",
   "execution_count": null,
   "metadata": {},
   "outputs": [],
   "source": [
    "# PlotGIF(home_xy, away_xy, initial_frame=12202-75,final_frame=12212,lag=51,step=2,\n",
    "#         gifname=\"gifs/plot_goal1_HomeTeam.gif\",title=\"Action leading to 1-0\")"
   ]
  },
  {
   "cell_type": "code",
   "execution_count": null,
   "metadata": {},
   "outputs": [],
   "source": [
    "# PlotGIF(home_xy, away_xy, initial_frame=53049-75,final_frame=53075,lag=51,step=2,\n",
    "#         gifname=\"gifs/plot_goal1_AwayTeam.gif\",title=\"Action leading to 1-1\")"
   ]
  },
  {
   "cell_type": "code",
   "execution_count": null,
   "metadata": {},
   "outputs": [],
   "source": [
    "# PlotGIF(home_xy, away_xy, initial_frame=73983-75,final_frame=73995,lag=51,step=2,\n",
    "#         gifname=\"gifs/plot_goal2_HomeTeam.gif\",title=\"Action leading to 2-1\")"
   ]
  },
  {
   "cell_type": "code",
   "execution_count": null,
   "metadata": {},
   "outputs": [],
   "source": [
    "# PlotGIF(home_xy, away_xy, initial_frame=115009,final_frame=115024,lag=51, step=1,\n",
    "#         gifname=\"gifs/plot_goal2_AwayTeam.gif\",title=\"Action leading to 2-2\") #la palla è un po' sfasata sul rigore"
   ]
  },
  {
   "cell_type": "code",
   "execution_count": null,
   "metadata": {},
   "outputs": [],
   "source": [
    "# PlotGIF(home_xy, away_xy, initial_frame=121027-75,final_frame=121055,lag=51,step=2,\n",
    "#         gifname=\"gifs/plot_goal3_HomeTeam.gif\",title=\"Action leading to 3-2\")"
   ]
  },
  {
   "cell_type": "markdown",
   "metadata": {},
   "source": [
    "## Predictions"
   ]
  },
  {
   "cell_type": "markdown",
   "metadata": {},
   "source": [
    "Idea: train the model until the penalty (al momento imbrogliamo con tutto il modello) and then predict the last part of the match\n",
    "\n",
    "**NOTE** we use 2 states as the model with 4 states will provide poor estimates to make a comparison..."
   ]
  },
  {
   "cell_type": "code",
   "execution_count": 3,
   "metadata": {},
   "outputs": [
    {
     "data": {
      "text/html": [
       "<div>\n",
       "<style scoped>\n",
       "    .dataframe tbody tr th:only-of-type {\n",
       "        vertical-align: middle;\n",
       "    }\n",
       "\n",
       "    .dataframe tbody tr th {\n",
       "        vertical-align: top;\n",
       "    }\n",
       "\n",
       "    .dataframe thead th {\n",
       "        text-align: right;\n",
       "    }\n",
       "</style>\n",
       "<table border=\"1\" class=\"dataframe\">\n",
       "  <thead>\n",
       "    <tr style=\"text-align: right;\">\n",
       "      <th></th>\n",
       "      <th>Team</th>\n",
       "      <th>Type</th>\n",
       "      <th>Subtype</th>\n",
       "      <th>Period</th>\n",
       "      <th>Start Frame</th>\n",
       "      <th>Start Time [s]</th>\n",
       "      <th>End Frame</th>\n",
       "      <th>End Time [s]</th>\n",
       "      <th>From</th>\n",
       "      <th>To</th>\n",
       "      <th>Start X</th>\n",
       "      <th>Start Y</th>\n",
       "      <th>End X</th>\n",
       "      <th>End Y</th>\n",
       "    </tr>\n",
       "  </thead>\n",
       "  <tbody>\n",
       "    <tr>\n",
       "      <th>198</th>\n",
       "      <td>Home</td>\n",
       "      <td>SHOT</td>\n",
       "      <td>ON TARGET-GOAL</td>\n",
       "      <td>1</td>\n",
       "      <td>12202</td>\n",
       "      <td>488.08</td>\n",
       "      <td>12212</td>\n",
       "      <td>488.48</td>\n",
       "      <td>Player10</td>\n",
       "      <td>NaN</td>\n",
       "      <td>-47.70</td>\n",
       "      <td>-3.40</td>\n",
       "      <td>-54.06</td>\n",
       "      <td>-2.04</td>\n",
       "    </tr>\n",
       "    <tr>\n",
       "      <th>823</th>\n",
       "      <td>Away</td>\n",
       "      <td>SHOT</td>\n",
       "      <td>ON TARGET-GOAL</td>\n",
       "      <td>1</td>\n",
       "      <td>53049</td>\n",
       "      <td>2121.96</td>\n",
       "      <td>53075</td>\n",
       "      <td>2123.00</td>\n",
       "      <td>Player24</td>\n",
       "      <td>NaN</td>\n",
       "      <td>44.52</td>\n",
       "      <td>2.72</td>\n",
       "      <td>54.06</td>\n",
       "      <td>1.36</td>\n",
       "    </tr>\n",
       "    <tr>\n",
       "      <th>1118</th>\n",
       "      <td>Home</td>\n",
       "      <td>SHOT</td>\n",
       "      <td>HEAD-ON TARGET-GOAL</td>\n",
       "      <td>2</td>\n",
       "      <td>73983</td>\n",
       "      <td>2959.32</td>\n",
       "      <td>73995</td>\n",
       "      <td>2959.80</td>\n",
       "      <td>Player9</td>\n",
       "      <td>NaN</td>\n",
       "      <td>47.70</td>\n",
       "      <td>-1.36</td>\n",
       "      <td>54.06</td>\n",
       "      <td>-2.04</td>\n",
       "    </tr>\n",
       "    <tr>\n",
       "      <th>1671</th>\n",
       "      <td>Away</td>\n",
       "      <td>SHOT</td>\n",
       "      <td>ON TARGET-GOAL</td>\n",
       "      <td>2</td>\n",
       "      <td>115009</td>\n",
       "      <td>4600.36</td>\n",
       "      <td>115024</td>\n",
       "      <td>4600.96</td>\n",
       "      <td>Player20</td>\n",
       "      <td>NaN</td>\n",
       "      <td>-40.28</td>\n",
       "      <td>-1.36</td>\n",
       "      <td>-55.12</td>\n",
       "      <td>-2.72</td>\n",
       "    </tr>\n",
       "    <tr>\n",
       "      <th>1723</th>\n",
       "      <td>Home</td>\n",
       "      <td>SHOT</td>\n",
       "      <td>ON TARGET-GOAL</td>\n",
       "      <td>2</td>\n",
       "      <td>121027</td>\n",
       "      <td>4841.08</td>\n",
       "      <td>121055</td>\n",
       "      <td>4842.20</td>\n",
       "      <td>Player12</td>\n",
       "      <td>NaN</td>\n",
       "      <td>30.74</td>\n",
       "      <td>-5.44</td>\n",
       "      <td>54.06</td>\n",
       "      <td>-2.72</td>\n",
       "    </tr>\n",
       "  </tbody>\n",
       "</table>\n",
       "</div>"
      ],
      "text/plain": [
       "      Team  Type              Subtype  Period  Start Frame  Start Time [s]  \\\n",
       "198   Home  SHOT       ON TARGET-GOAL       1        12202          488.08   \n",
       "823   Away  SHOT       ON TARGET-GOAL       1        53049         2121.96   \n",
       "1118  Home  SHOT  HEAD-ON TARGET-GOAL       2        73983         2959.32   \n",
       "1671  Away  SHOT       ON TARGET-GOAL       2       115009         4600.36   \n",
       "1723  Home  SHOT       ON TARGET-GOAL       2       121027         4841.08   \n",
       "\n",
       "      End Frame  End Time [s]      From   To  Start X  Start Y  End X  End Y  \n",
       "198       12212        488.48  Player10  NaN   -47.70    -3.40 -54.06  -2.04  \n",
       "823       53075       2123.00  Player24  NaN    44.52     2.72  54.06   1.36  \n",
       "1118      73995       2959.80   Player9  NaN    47.70    -1.36  54.06  -2.04  \n",
       "1671     115024       4600.96  Player20  NaN   -40.28    -1.36 -55.12  -2.72  \n",
       "1723     121055       4842.20  Player12  NaN    30.74    -5.44  54.06  -2.72  "
      ]
     },
     "execution_count": 3,
     "metadata": {},
     "output_type": "execute_result"
    }
   ],
   "source": [
    "goals_info"
   ]
  },
  {
   "cell_type": "markdown",
   "metadata": {},
   "source": [
    "Predict the last part of the match:"
   ]
  },
  {
   "cell_type": "code",
   "execution_count": 4,
   "metadata": {},
   "outputs": [],
   "source": [
    "data=pd.read_csv('data/hulls_df_matchday2_reduced.csv')\n",
    "posterior=torch.load(f\"parameters/CopulaHMM_matchday2_2states.pt\")\n",
    "complete_model=CopulaHMM.from_posterior(posterior)\n",
    "MLS=complete_model.viterbi(torch.tensor(data[[\"HomeHull\",\"AwayHull\"]].values/100))\n",
    "data[\"State\"]=MLS.numpy()"
   ]
  },
  {
   "cell_type": "markdown",
   "metadata": {},
   "source": [
    "Basing on the end time of the penalty, we can split our dataset into train and test"
   ]
  },
  {
   "cell_type": "code",
   "execution_count": 5,
   "metadata": {},
   "outputs": [],
   "source": [
    "train_data = data[data[\"Time [s]\"]<=4600]\n",
    "test_data = data[data[\"Time [s]\"]>4600]"
   ]
  },
  {
   "cell_type": "code",
   "execution_count": 6,
   "metadata": {},
   "outputs": [
    {
     "name": "stderr",
     "output_type": "stream",
     "text": [
      "100%|██████████| 500/500 [16:29<00:00,  1.98s/it, LOSS=8.14e+3]\n"
     ]
    }
   ],
   "source": [
    "sequence_XY = torch.tensor(train_data[[\"HomeHull\",\"AwayHull\"]].values/100)\n",
    "PredModel= CopulaHMM(hidden_states=2)\n",
    "PredModel.fit(sequence=sequence_XY,training_steps=500)"
   ]
  },
  {
   "cell_type": "code",
   "execution_count": 7,
   "metadata": {},
   "outputs": [
    {
     "name": "stdout",
     "output_type": "stream",
     "text": [
      "--------------------------------------------------------------------\n",
      "STATE 0:\n",
      ">> Mean of the Convex Hull for home team : 772.26 m^2\n",
      ">> Std of the Convex Hull for home team  : 241.46 m^2\n",
      ">> Mean of the Convex Hull for away team : 1195.22 m^2\n",
      ">> Std of the Convex Hull for away team  : 366.59 m^2\n",
      "--------------------------------------------------------------------\n",
      "STATE 1:\n",
      ">> Mean of the Convex Hull for home team : 1021.56 m^2\n",
      ">> Std of the Convex Hull for home team  : 366.79 m^2\n",
      ">> Mean of the Convex Hull for away team : 690.73 m^2\n",
      ">> Std of the Convex Hull for away team  : 217.82 m^2\n",
      "--------------------------------------------------------------------\n"
     ]
    }
   ],
   "source": [
    "PredModel.print_estimates()"
   ]
  },
  {
   "cell_type": "code",
   "execution_count": 8,
   "metadata": {},
   "outputs": [],
   "source": [
    "#torch.save(PredModel.posterior, f\"parameters/CopulaHMM_matchday2_2states_predict.pt\")\n",
    "torch.load(f\"parameters/CopulaHMM_matchday2_2states_predict.pt\")"
   ]
  },
  {
   "cell_type": "markdown",
   "metadata": {},
   "source": [
    "Predictions:"
   ]
  },
  {
   "cell_type": "code",
   "execution_count": 24,
   "metadata": {},
   "outputs": [],
   "source": [
    "pred_states, pred_areas=PredModel.predict(num_pred=test_data.shape[0],\n",
    "                                          initial_state=1)"
   ]
  },
  {
   "cell_type": "markdown",
   "metadata": {},
   "source": [
    "Create a dataframe compatible with the function `plotEPS_with_states` and fill its values with our predictions (both predicted states and areas)"
   ]
  },
  {
   "cell_type": "code",
   "execution_count": 25,
   "metadata": {},
   "outputs": [],
   "source": [
    "pred_data = test_data.copy()\n",
    "pred_data[\"State\"]=pred_states\n",
    "pred_data[\"HomeHull\"]=pred_areas[:,0].detach().numpy()*100\n",
    "pred_data[\"AwayHull\"]=pred_areas[:,1].detach().numpy()*100"
   ]
  },
  {
   "cell_type": "code",
   "execution_count": 41,
   "metadata": {},
   "outputs": [],
   "source": [
    "state_colors= {0:\"#FD8033\",\n",
    "               1:\"#0DC2B7\"\n",
    "               }\n",
    "pred_data_plot=plotEPS_with_states(pred_data,class_colors=state_colors)\n",
    "test_data_plot=plotEPS_with_states(test_data,class_colors=state_colors)\n",
    "\n",
    "#pred_data_plot.savefig(\"plots/PredData_hulls.png\", dpi=350, bbox_inches='tight')\n",
    "#test_data_plot.savefig(\"plots/TestData_hulls.png\", dpi=350, bbox_inches='tight')"
   ]
  },
  {
   "cell_type": "code",
   "execution_count": 39,
   "metadata": {},
   "outputs": [
    {
     "data": {
      "image/png": "[encoded data removed]",
      "text/plain": [
       "<Figure size 3600x1200 with 2 Axes>"
      ]
     },
     "execution_count": 39,
     "metadata": {},
     "output_type": "execute_result"
    }
   ],
   "source": [
    "pred_data_plot"
   ]
  },
  {
   "cell_type": "code",
   "execution_count": 40,
   "metadata": {},
   "outputs": [
    {
     "data": {
      "image/png": "[encoded data removed]",
      "text/plain": [
       "<Figure size 3600x1200 with 2 Axes>"
      ]
     },
     "execution_count": 40,
     "metadata": {},
     "output_type": "execute_result"
    }
   ],
   "source": [
    "test_data_plot"
   ]
  }
 ],
 "metadata": {
  "kernelspec": {
   "display_name": "Python 3",
   "language": "python",
   "name": "python3"
  },
  "language_info": {
   "codemirror_mode": {
    "name": "ipython",
    "version": 3
   },
   "file_extension": ".py",
   "mimetype": "text/x-python",
   "name": "python",
   "nbconvert_exporter": "python",
   "pygments_lexer": "ipython3",
   "version": "3.12.3"
  }
 },
 "nbformat": 4,
 "nbformat_minor": 2
}
