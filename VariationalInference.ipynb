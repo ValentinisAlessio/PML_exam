{
 "cells": [
  {
   "cell_type": "markdown",
   "metadata": {},
   "source": [
    "# Variational Inference"
   ]
  },
  {
   "cell_type": "markdown",
   "metadata": {},
   "source": [
    "- [Univariate (separate) models](#univariate-separate-models)\n",
    "- [Bivariate Copula model](#bivariate-copula-model)"
   ]
  },
  {
   "cell_type": "markdown",
   "metadata": {},
   "source": [
    "Libraries:"
   ]
  },
  {
   "cell_type": "code",
   "execution_count": null,
   "metadata": {},
   "outputs": [],
   "source": []
  },
  {
   "cell_type": "code",
   "execution_count": null,
   "metadata": {},
   "outputs": [],
   "source": [
    "import numpy as np\n",
    "import torch\n",
    "import pyro\n",
    "from pyro import poutine\n",
    "import pyro.distributions as dist\n",
    "from pyro.infer import SVI, TraceEnum_ELBO\n",
    "from pyro.infer.autoguide import AutoDelta\n",
    "from pyro.optim import Adam,ClippedAdam\n",
    "import pandas as pd\n",
    "import tqdm\n",
    "# from models.UnivariateHMM import UnivariateHMM\n",
    "# from models.CopulaHMM import CopulaHMM\n",
    "from utils.CopulaHelpers import *"
   ]
  },
  {
   "cell_type": "markdown",
   "metadata": {},
   "source": [
    "Global variables:"
   ]
  },
  {
   "cell_type": "code",
   "execution_count": null,
   "metadata": {},
   "outputs": [],
   "source": [
    "DATA_DIR=\"data/\"\n",
    "HIDDEN_STATES = 5\n",
    "TRAINING_STEPS= 400"
   ]
  },
  {
   "cell_type": "markdown",
   "metadata": {},
   "source": [
    "Import data:"
   ]
  },
  {
   "cell_type": "code",
   "execution_count": null,
   "metadata": {},
   "outputs": [],
   "source": [
    "data = pd.read_csv(f\"{DATA_DIR}hulls_df_matchday2_reduced.csv\")\n",
    "data = data.dropna()\n",
    "# Convert the areas from m^2 to dam^2 for computational reasons\n",
    "data[\"HomeHull\"]=data[\"HomeHull\"]/100\n",
    "data[\"AwayHull\"]=data[\"AwayHull\"]/100\n",
    "data.head()"
   ]
  },
  {
   "cell_type": "markdown",
   "metadata": {},
   "source": [
    "## Univariate (separate) models"
   ]
  },
  {
   "cell_type": "markdown",
   "metadata": {},
   "source": [
    "**NB: DA CAMBIARE IN UN BIVARIATO CON EMISSIONI INDIPENDENTI, COSI DA AVERE UNO STESSO STATO PER LE 2 SERIE STORICHE**"
   ]
  },
  {
   "cell_type": "code",
   "execution_count": null,
   "metadata": {},
   "outputs": [],
   "source": [
    "def UnivariateHMM(sequence: torch.tensor, \n",
    "                  hidden_dim: int, \n",
    "                  include_prior: bool=True):\n",
    "    '''\n",
    "    Pyro Model for a Hidden Markov Model with a single univariate observation with Gamma emission distribution.\n",
    "    Structure of the model taken from the Pyro documentation:\n",
    "    https://pyro.ai/examples/hmm.html\n",
    "    \n",
    "    INPUTS:\n",
    "    - sequence (torch.tensor): A 1-dimensional tensor of observations.\n",
    "    - hidden_dim (int): The number of hidden states.\n",
    "    - include_prior (bool): If True, include priors for the parameters of the model.\n",
    "    '''\n",
    "    length = len(sequence)\n",
    "    with poutine.mask(mask=include_prior):\n",
    "        # Transition probabilities\n",
    "        probs_x = pyro.sample(\n",
    "            \"probs_x\",\n",
    "            dist.Dirichlet(0.9 * torch.eye(hidden_dim) + 0.1).to_event(),\n",
    "        )\n",
    "        # Emission probabilities (1-dimensional for the area)\n",
    "        probs_alpha = pyro.sample(\n",
    "            \"probs_alpha\",\n",
    "            dist.Gamma(1.0, 1.0).expand([hidden_dim]).to_event(1)\n",
    "        )\n",
    "\n",
    "        probs_beta = pyro.sample(\n",
    "            \"probs_beta\",\n",
    "            dist.Gamma(1.0, 1.0).expand([hidden_dim]).to_event(1)\n",
    "        )\n",
    "    \n",
    "    x = 0  # Initial hidden state\n",
    "    for t in pyro.markov(range(length)):\n",
    "        x = pyro.sample(\n",
    "            f\"x_{t}\",\n",
    "            dist.Categorical(probs_x[x]),\n",
    "            infer={\"enumerate\": \"parallel\"},\n",
    "        )\n",
    "        pyro.sample(\n",
    "            f\"y_{t}\",\n",
    "            dist.Gamma(probs_alpha[x], probs_beta[x]),\n",
    "            obs=sequence[t],\n",
    "        )"
   ]
  },
  {
   "cell_type": "markdown",
   "metadata": {},
   "source": [
    "## Bivariate copula model"
   ]
  },
  {
   "cell_type": "code",
   "execution_count": null,
   "metadata": {},
   "outputs": [],
   "source": [
    "from models.CopulaHMM import CopulaHMM"
   ]
  },
  {
   "cell_type": "code",
   "execution_count": null,
   "metadata": {},
   "outputs": [],
   "source": [
    "sequence_XY = torch.tensor(data[[\"HomeHull\",\"AwayHull\"]].values/100)\n",
    "sequence_XY"
   ]
  },
  {
   "cell_type": "code",
   "execution_count": null,
   "metadata": {},
   "outputs": [],
   "source": [
    "model = CopulaHMM(hidden_states=5)\n",
    "model.fit(sequence_XY, training_steps=400)"
   ]
  },
  {
   "cell_type": "code",
   "execution_count": null,
   "metadata": {},
   "outputs": [],
   "source": [
    "model.print_estimates()"
   ]
  },
  {
   "cell_type": "code",
   "execution_count": null,
   "metadata": {},
   "outputs": [],
   "source": [
    "torch.save(model.posterior,\"parameters/CopulaHMM_matchday2_5states_OldData.pt\")"
   ]
  }
 ],
 "metadata": {
  "kernelspec": {
   "display_name": "dl",
   "language": "python",
   "name": "python3"
  },
  "language_info": {
   "codemirror_mode": {
    "name": "ipython",
    "version": 3
   },
   "file_extension": ".py",
   "mimetype": "text/x-python",
   "name": "python",
   "nbconvert_exporter": "python",
   "pygments_lexer": "ipython3",
   "version": "3.12.1"
  }
 },
 "nbformat": 4,
 "nbformat_minor": 2
}
