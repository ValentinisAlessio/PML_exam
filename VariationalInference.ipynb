{
 "cells": [
  {
   "cell_type": "markdown",
   "metadata": {},
   "source": [
    "# Variational Inference"
   ]
  },
  {
   "cell_type": "markdown",
   "metadata": {},
   "source": [
    "- [Univariate (separate) models](#univariate-separate-models)\n",
    "- [Bivariate Copula model](#bivariate-copula-model)"
   ]
  },
  {
   "cell_type": "markdown",
   "metadata": {},
   "source": [
    "Libraries:"
   ]
  },
  {
   "cell_type": "code",
   "execution_count": null,
   "metadata": {},
   "outputs": [],
   "source": [
    "import numpy as np\n",
    "import torch\n",
    "import pyro\n",
    "from pyro import poutine\n",
    "import pyro.distributions as dist\n",
    "from pyro.infer import SVI, TraceEnum_ELBO\n",
    "from pyro.infer.autoguide import AutoDelta\n",
    "from pyro.optim import Adam,ClippedAdam\n",
    "import pandas as pd\n",
    "import tqdm\n",
    "# from models.UnivariateHMM import UnivariateHMM\n",
    "# from models.CopulaHMM import CopulaHMM\n",
    "from utils.CopulaHelpers import *"
   ]
  },
  {
   "cell_type": "markdown",
   "metadata": {},
   "source": [
    "Global variables:"
   ]
  },
  {
   "cell_type": "code",
   "execution_count": null,
   "metadata": {},
   "outputs": [],
   "source": [
    "DATA_DIR=\"data/\"\n",
    "HIDDEN_STATES = 2\n",
    "TRAINING_STEPS= 500"
   ]
  },
  {
   "cell_type": "markdown",
   "metadata": {},
   "source": [
    "Import data:"
   ]
  },
  {
   "cell_type": "code",
   "execution_count": null,
   "metadata": {},
   "outputs": [],
   "source": [
    "data = pd.read_csv(f\"{DATA_DIR}hulls_df_matchday2_reduced.csv\")\n",
    "data = data.dropna()\n",
    "# Convert the areas from m^2 to dam^2 for computational reasons\n",
    "data[\"HomeHull\"]=data[\"HomeHull\"]/100\n",
    "data[\"AwayHull\"]=data[\"AwayHull\"]/100\n",
    "data.head()"
   ]
  },
  {
   "cell_type": "markdown",
   "metadata": {},
   "source": [
    "## Univariate (separate) models"
   ]
  },
  {
   "cell_type": "markdown",
   "metadata": {},
   "source": [
    "**NB: DA CAMBIARE IN UN BIVARIATO CON EMISSIONI INDIPENDENTI, COSI DA AVERE UNO STESSO STATO PER LE 2 SERIE STORICHE**"
   ]
  },
  {
   "cell_type": "code",
   "execution_count": null,
   "metadata": {},
   "outputs": [],
   "source": [
    "def UnivariateHMM(sequence: torch.tensor, \n",
    "                  hidden_dim: int, \n",
    "                  include_prior: bool=True):\n",
    "    '''\n",
    "    Pyro Model for a Hidden Markov Model with a single univariate observation with Gamma emission distribution.\n",
    "    Structure of the model taken from the Pyro documentation:\n",
    "    https://pyro.ai/examples/hmm.html\n",
    "    \n",
    "    INPUTS:\n",
    "    - sequence (torch.tensor): A 1-dimensional tensor of observations.\n",
    "    - hidden_dim (int): The number of hidden states.\n",
    "    - include_prior (bool): If True, include priors for the parameters of the model.\n",
    "    '''\n",
    "    length = len(sequence)\n",
    "    with poutine.mask(mask=include_prior):\n",
    "        # Transition probabilities\n",
    "        probs_x = pyro.sample(\n",
    "            \"probs_x\",\n",
    "            dist.Dirichlet(0.9 * torch.eye(hidden_dim) + 0.1).to_event(),\n",
    "        )\n",
    "        # Emission probabilities (1-dimensional for the area)\n",
    "        probs_alpha = pyro.sample(\n",
    "            \"probs_alpha\",\n",
    "            dist.Gamma(1.0, 1.0).expand([hidden_dim]).to_event(1)\n",
    "        )\n",
    "\n",
    "        probs_beta = pyro.sample(\n",
    "            \"probs_beta\",\n",
    "            dist.Gamma(1.0, 1.0).expand([hidden_dim]).to_event(1)\n",
    "        )\n",
    "    \n",
    "    x = 0  # Initial hidden state\n",
    "    for t in pyro.markov(range(length)):\n",
    "        x = pyro.sample(\n",
    "            f\"x_{t}\",\n",
    "            dist.Categorical(probs_x[x]),\n",
    "            infer={\"enumerate\": \"parallel\"},\n",
    "        )\n",
    "        pyro.sample(\n",
    "            f\"y_{t}\",\n",
    "            dist.Gamma(probs_alpha[x], probs_beta[x]),\n",
    "            obs=sequence[t],\n",
    "        )"
   ]
  },
  {
   "cell_type": "code",
   "execution_count": null,
   "metadata": {},
   "outputs": [],
   "source": [
    "sequence_X = torch.tensor(data[\"HomeHull\"].values)\n",
    "sequence_Y = torch.tensor(data[\"AwayHull\"].values)"
   ]
  },
  {
   "cell_type": "markdown",
   "metadata": {},
   "source": [
    "#### Home Team"
   ]
  },
  {
   "cell_type": "code",
   "execution_count": null,
   "metadata": {},
   "outputs": [],
   "source": [
    "pyro.clear_param_store()"
   ]
  },
  {
   "cell_type": "code",
   "execution_count": null,
   "metadata": {},
   "outputs": [],
   "source": [
    "# Guide\n",
    "guide = AutoDelta(poutine.block(UnivariateHMM, expose=[\"probs_x\", \"probs_alpha\", \"probs_beta\"]))\n",
    "# Optimizer\n",
    "optimizer = Adam({\"lr\": 0.01})\n",
    "# Inference algorithm\n",
    "elbo = TraceEnum_ELBO(max_plate_nesting=1)\n",
    "svi = SVI(UnivariateHMM, guide, optimizer, loss=elbo)\n",
    "# Training\n",
    "tqdm_bar = tqdm.tqdm(range(TRAINING_STEPS))\n",
    "for step in tqdm_bar:\n",
    "    loss = svi.step(sequence_X, HIDDEN_STATES)\n",
    "    if step % 100 == 0:\n",
    "         tqdm_bar.set_postfix({'LOSS': loss})"
   ]
  },
  {
   "cell_type": "code",
   "execution_count": null,
   "metadata": {},
   "outputs": [],
   "source": [
    "posterior_HomeTeam = guide(sequence_X,HIDDEN_STATES)\n",
    "posterior_HomeTeam"
   ]
  },
  {
   "cell_type": "code",
   "execution_count": null,
   "metadata": {},
   "outputs": [],
   "source": [
    "torch.save(posterior_HomeTeam,f\"parameters/univariateHMM_matchday2_HomeTeam_{HIDDEN_STATES}states.pt\")"
   ]
  },
  {
   "cell_type": "markdown",
   "metadata": {},
   "source": [
    "#### Away Team"
   ]
  },
  {
   "cell_type": "code",
   "execution_count": null,
   "metadata": {},
   "outputs": [],
   "source": [
    "pyro.clear_param_store()"
   ]
  },
  {
   "cell_type": "code",
   "execution_count": null,
   "metadata": {},
   "outputs": [],
   "source": [
    "# Guide\n",
    "guide = AutoDelta(poutine.block(UnivariateHMM, expose=[\"probs_x\", \"probs_alpha\", \"probs_beta\"]))\n",
    "# Optimizer\n",
    "optimizer = Adam({\"lr\": 0.01})\n",
    "# Inference algorithm\n",
    "elbo = TraceEnum_ELBO(max_plate_nesting=1)\n",
    "svi = SVI(UnivariateHMM, guide, optimizer, loss=elbo)\n",
    "# Training\n",
    "tqdm_bar = tqdm.tqdm(range(TRAINING_STEPS))\n",
    "for step in tqdm_bar:\n",
    "    loss = svi.step(sequence_Y, HIDDEN_STATES)\n",
    "    if step % 100 == 0:\n",
    "         tqdm_bar.set_postfix({'LOSS': loss})"
   ]
  },
  {
   "cell_type": "code",
   "execution_count": null,
   "metadata": {},
   "outputs": [],
   "source": [
    "posterior_AwayTeam = guide(sequence_Y,HIDDEN_STATES)\n",
    "posterior_AwayTeam"
   ]
  },
  {
   "cell_type": "code",
   "execution_count": null,
   "metadata": {},
   "outputs": [],
   "source": [
    "#torch.save(posterior_AwayTeam,f\"parameters/univariateHMM_matchday2_AwayTeam_{HIDDEN_STATES}states.pt\")"
   ]
  },
  {
   "cell_type": "markdown",
   "metadata": {},
   "source": [
    "## Bivariate copula model"
   ]
  },
  {
   "cell_type": "code",
   "execution_count": null,
   "metadata": {},
   "outputs": [],
   "source": [
    "def CopulaHMM(sequence: torch.tensor, \n",
    "              hidden_dim: int, \n",
    "              include_prior: bool=True):\n",
    "    '''\n",
    "    Pyro Model for a Hidden Markov Model with a bivariate observation with Copula emission distribution.\n",
    "    Structure of the model taken from the Pyro documentation:\n",
    "    https://pyro.ai/examples/hmm.html\n",
    "    \n",
    "    INPUTS:\n",
    "    - sequence (torch.tensor): A 2-dimensional tensor of observations.\n",
    "    - hidden_dim (int): The number of hidden states.\n",
    "    - include_prior (bool): If True, include priors for the parameters of the model.\n",
    "    '''\n",
    "    n_obs = sequence.shape[0]\n",
    "    with poutine.mask(mask=include_prior):\n",
    "        #---------------------------------------------------------------------\n",
    "        # Prior for the initial state probabilities\n",
    "        probs_initial = pyro.sample(\n",
    "            \"probs_initial\",\n",
    "            dist.Dirichlet(torch.ones(hidden_dim))\n",
    "        )\n",
    "        #---------------------------------------------------------------------\n",
    "        # Transition probabilities\n",
    "        probs_x = pyro.sample(\n",
    "            \"probs_x\",\n",
    "            dist.Dirichlet(0.9 * torch.eye(hidden_dim) + 0.1).to_event(1),\n",
    "        )\n",
    "        #---------------------------------------------------------------------\n",
    "        # Prior for the parameters of emission probabilities \n",
    "        probs_alpha1 = pyro.sample(\n",
    "            \"probs_alpha1\",\n",
    "            dist.Gamma(concentration=15.0, rate=0.8).expand([hidden_dim]).to_event(1)\n",
    "        )\n",
    "\n",
    "        probs_beta1 = pyro.sample(\n",
    "            \"probs_beta1\",\n",
    "            dist.Gamma(concentration=1.0, rate=1.0).expand([hidden_dim]).to_event(1)\n",
    "        )\n",
    "        probs_alpha2 = pyro.sample(\n",
    "            \"probs_alpha2\",\n",
    "            dist.Gamma(concentration=15.0, rate=0.8).expand([hidden_dim]).to_event(1)\n",
    "        )\n",
    "\n",
    "        probs_beta2 = pyro.sample(\n",
    "            \"probs_beta2\",\n",
    "            dist.Gamma(concentration=1.0, rate=1.0).expand([hidden_dim]).to_event(1)\n",
    "        )\n",
    "        #---------------------------------------------------------------------\n",
    "        # Prior for theta\n",
    "        theta = pyro.sample(\n",
    "            \"theta\",\n",
    "            dist.Gamma(5.0, 0.7).expand([hidden_dim]).to_event(1)\n",
    "        )\n",
    "        \n",
    "    # Sample the initial hidden state\n",
    "    x = pyro.sample(\n",
    "        \"x_0\",\n",
    "        dist.Categorical(probs_initial),\n",
    "        infer={\"enumerate\": \"parallel\"},\n",
    "    )\n",
    "\n",
    "    for t in pyro.markov(range(n_obs)):\n",
    "        if t > 0:\n",
    "            x = pyro.sample(\n",
    "                f\"x_{t}\",\n",
    "                dist.Categorical(probs_x[x]),\n",
    "                infer={\"enumerate\": \"parallel\"},\n",
    "            )\n",
    "        \n",
    "        log_pdf = copulamodel_log_pdf(\n",
    "            x=sequence[t,0],\n",
    "            y=sequence[t,1],\n",
    "            shape1=probs_alpha1[x],\n",
    "            rate1=probs_beta1[x],\n",
    "            shape2=probs_alpha2[x],\n",
    "            rate2=probs_beta2[x],\n",
    "            theta=theta[x]\n",
    "        )\n",
    "        pyro.factor(f\"xy_{t}\", log_pdf)"
   ]
  },
  {
   "cell_type": "code",
   "execution_count": null,
   "metadata": {},
   "outputs": [],
   "source": [
    "sequence_XY = torch.tensor(data[[\"HomeHull\",\"AwayHull\"]].values)\n",
    "sequence_XY.shape"
   ]
  },
  {
   "cell_type": "code",
   "execution_count": null,
   "metadata": {},
   "outputs": [],
   "source": [
    "# Guide\n",
    "guide = AutoDelta(poutine.block(CopulaHMM, expose=[\"probs_initial\",\n",
    "                                                  \"probs_x\",\n",
    "                                                  \"probs_alpha1\",\n",
    "                                                  \"probs_beta1\",\n",
    "                                                  \"probs_alpha2\",\n",
    "                                                  \"probs_beta2\",\n",
    "                                                  \"theta\"\n",
    "                                                  ]))\n",
    "pyro.clear_param_store()\n",
    "\n",
    "# Optimizer\n",
    "optimizer = ClippedAdam({\"lr\": 0.01})\n",
    "\n",
    "# Inference algorithm\n",
    "elbo = TraceEnum_ELBO(max_plate_nesting=1)\n",
    "svi = SVI(CopulaHMM, guide, optimizer, loss=elbo)\n",
    "\n",
    "# Training\n",
    "tqdm_bar = tqdm.tqdm(range(TRAINING_STEPS))\n",
    "for step in tqdm_bar:\n",
    "    loss = svi.step(sequence_XY, HIDDEN_STATES)\n",
    "    #if step % 50 == 0:\n",
    "    tqdm_bar.set_postfix({'LOSS': loss})"
   ]
  },
  {
   "cell_type": "code",
   "execution_count": null,
   "metadata": {},
   "outputs": [],
   "source": [
    "posterior = guide(sequence_XY,HIDDEN_STATES)\n",
    "posterior"
   ]
  },
  {
   "cell_type": "markdown",
   "metadata": {},
   "source": [
    "Here uncomment according to the number of states:"
   ]
  },
  {
   "cell_type": "code",
   "execution_count": null,
   "metadata": {},
   "outputs": [],
   "source": [
    "meanH_state0 = posterior[\"probs_alpha1\"][0]/posterior[\"probs_beta1\"][0]*100\n",
    "meanA_state0 = posterior[\"probs_alpha2\"][0]/posterior[\"probs_beta2\"][0]*100\n",
    "meanH_state1 = posterior[\"probs_alpha1\"][1]/posterior[\"probs_beta1\"][1]*100\n",
    "meanA_state1 = posterior[\"probs_alpha2\"][1]/posterior[\"probs_beta2\"][1]*100\n",
    "meanH_state2 = posterior[\"probs_alpha1\"][2]/posterior[\"probs_beta1\"][2]*100\n",
    "meanA_state2 = posterior[\"probs_alpha2\"][2]/posterior[\"probs_beta2\"][2]*100\n",
    "meanH_state3 = posterior[\"probs_alpha1\"][3]/posterior[\"probs_beta1\"][3]*100\n",
    "meanA_state3 = posterior[\"probs_alpha2\"][3]/posterior[\"probs_beta2\"][3]*100\n",
    "meanH_state4 = posterior[\"probs_alpha1\"][4]/posterior[\"probs_beta1\"][4]*100\n",
    "meanA_state4 = posterior[\"probs_alpha2\"][4]/posterior[\"probs_beta2\"][4]*100\n",
    "\n",
    "print(f\">> Mean of the Convex Hull for home team (STATE 0): {meanH_state0:.2f} m^2\")\n",
    "print(f\">> Mean of the Convex Hull for away team (STATE 0): {meanA_state0:.2f} m^2\")\n",
    "print(f\">> Mean of the Convex Hull for home team (STATE 1): {meanH_state1:.2f} m^2\")\n",
    "print(f\">> Mean of the Convex Hull for away team (STATE 1): {meanA_state1:.2f} m^2\")\n",
    "print(f\">> Mean of the Convex Hull for home team (STATE 2): {meanH_state2:.2f} m^2\")\n",
    "print(f\">> Mean of the Convex Hull for away team (STATE 2): {meanA_state2:.2f} m^2\")\n",
    "print(f\">> Mean of the Convex Hull for home team (STATE 3): {meanH_state3:.2f} m^2\")\n",
    "print(f\">> Mean of the Convex Hull for away team (STATE 3): {meanA_state3:.2f} m^2\")\n",
    "print(f\">> Mean of the Convex Hull for home team (STATE 4): {meanH_state4:.2f} m^2\")\n",
    "print(f\">> Mean of the Convex Hull for away team (STATE 4): {meanA_state4:.2f} m^2\")"
   ]
  },
  {
   "cell_type": "code",
   "execution_count": null,
   "metadata": {},
   "outputs": [],
   "source": [
    "#torch.save(posterior,f\"parameters/CopulaHMM_matchday2_{HIDDEN_STATES}states.pt\")"
   ]
  }
 ],
 "metadata": {
  "kernelspec": {
   "display_name": "dl",
   "language": "python",
   "name": "python3"
  },
  "language_info": {
   "codemirror_mode": {
    "name": "ipython",
    "version": 3
   },
   "file_extension": ".py",
   "mimetype": "text/x-python",
   "name": "python",
   "nbconvert_exporter": "python",
   "pygments_lexer": "ipython3",
   "version": "3.12.1"
  }
 },
 "nbformat": 4,
 "nbformat_minor": 2
}
