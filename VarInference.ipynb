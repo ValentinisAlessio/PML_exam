{
 "cells": [
  {
   "cell_type": "markdown",
   "metadata": {},
   "source": [
    "# Variational Inference"
   ]
  },
  {
   "cell_type": "markdown",
   "metadata": {},
   "source": [
    "Libraries:"
   ]
  },
  {
   "cell_type": "code",
   "execution_count": 1,
   "metadata": {},
   "outputs": [],
   "source": [
    "import torch\n",
    "import pandas as pd\n",
    "from models.BivariateHMM import BivariateHMM\n",
    "from models.CopulaHMM import CopulaHMM"
   ]
  },
  {
   "cell_type": "markdown",
   "metadata": {},
   "source": [
    "Global variables:"
   ]
  },
  {
   "cell_type": "code",
   "execution_count": 2,
   "metadata": {},
   "outputs": [],
   "source": [
    "DATA_DIR=\"data/\"\n",
    "HIDDEN_STATES = 2\n",
    "TRAINING_STEPS= 400"
   ]
  },
  {
   "cell_type": "markdown",
   "metadata": {},
   "source": [
    "Import data:"
   ]
  },
  {
   "cell_type": "code",
   "execution_count": 3,
   "metadata": {},
   "outputs": [],
   "source": [
    "data = pd.read_csv(f\"{DATA_DIR}hulls_df_matchday2_reduced.csv\")\n",
    "data = data.dropna()\n",
    "data.head()\n",
    "sequence_XY = torch.tensor(data[[\"HomeHull\",\"AwayHull\"]].values/100)"
   ]
  },
  {
   "cell_type": "markdown",
   "metadata": {},
   "source": [
    "## Bivariate independent model"
   ]
  },
  {
   "cell_type": "code",
   "execution_count": 4,
   "metadata": {},
   "outputs": [
    {
     "name": "stderr",
     "output_type": "stream",
     "text": [
      "100%|██████████| 400/400 [11:12<00:00,  1.68s/it, LOSS=9.59e+3]\n"
     ]
    }
   ],
   "source": [
    "BivariateModel = BivariateHMM(hidden_states=HIDDEN_STATES)\n",
    "BivariateModel.fit(sequence_XY,TRAINING_STEPS)"
   ]
  },
  {
   "cell_type": "code",
   "execution_count": 5,
   "metadata": {},
   "outputs": [
    {
     "name": "stdout",
     "output_type": "stream",
     "text": [
      ">> Mean of the Convex Hull for home team (STATE 0): 1000.26 m^2\n",
      ">> Mean of the Convex Hull for away team (STATE 0): 693.67 m^2\n",
      ">> Mean of the Convex Hull for home team (STATE 1): 729.28 m^2\n",
      ">> Mean of the Convex Hull for away team (STATE 1): 1195.39 m^2\n"
     ]
    }
   ],
   "source": [
    "BivariateModel.print_estimates()"
   ]
  },
  {
   "cell_type": "code",
   "execution_count": 6,
   "metadata": {},
   "outputs": [],
   "source": [
    "#torch.save(BivariateModel.posterior,f\"parameters/BivariateHMM_matchday2_{HIDDEN_STATES}states.pt\")"
   ]
  },
  {
   "cell_type": "markdown",
   "metadata": {},
   "source": [
    "## Bivariate copula model"
   ]
  },
  {
   "cell_type": "code",
   "execution_count": null,
   "metadata": {},
   "outputs": [],
   "source": [
    "CopulaModel = CopulaHMM(hidden_states=HIDDEN_STATES)\n",
    "CopulaModel.fit(sequence_XY, training_steps=TRAINING_STEPS)"
   ]
  },
  {
   "cell_type": "code",
   "execution_count": null,
   "metadata": {},
   "outputs": [],
   "source": [
    "CopulaModel.print_estimates()"
   ]
  },
  {
   "cell_type": "code",
   "execution_count": null,
   "metadata": {},
   "outputs": [],
   "source": [
    "#torch.save(CopulaModel.posterior,f\"parameters/CopulaHMM_matchday2_{HIDDEN_STATES}states.pt\")"
   ]
  }
 ],
 "metadata": {
  "kernelspec": {
   "display_name": "dl",
   "language": "python",
   "name": "python3"
  },
  "language_info": {
   "codemirror_mode": {
    "name": "ipython",
    "version": 3
   },
   "file_extension": ".py",
   "mimetype": "text/x-python",
   "name": "python",
   "nbconvert_exporter": "python",
   "pygments_lexer": "ipython3",
   "version": "3.12.1"
  }
 },
 "nbformat": 4,
 "nbformat_minor": 2
}
